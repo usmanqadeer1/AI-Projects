{
 "cells": [
  {
   "cell_type": "markdown",
   "id": "6960c4fa",
   "metadata": {},
   "source": [
    "# Feature Engineering\n",
    "\n",
    "- House Price Dataset"
   ]
  },
  {
   "cell_type": "code",
   "execution_count": null,
   "id": "9dba0ec1",
   "metadata": {},
   "outputs": [],
   "source": []
  },
  {
   "cell_type": "code",
   "execution_count": 1,
   "id": "1a717ed7",
   "metadata": {},
   "outputs": [],
   "source": [
    "import pandas as pd\n",
    "from sklearn.preprocessing import StandardScaler, LabelEncoder"
   ]
  },
  {
   "cell_type": "code",
   "execution_count": 2,
   "id": "6c09c7d6",
   "metadata": {},
   "outputs": [],
   "source": [
    "# Load the \"house_prices.csv\" dataset\n",
    "data = pd.read_csv(\"house_prices.csv\")"
   ]
  },
  {
   "cell_type": "markdown",
   "id": "817671e0",
   "metadata": {},
   "source": [
    "### Step 1: Handling Missing Values"
   ]
  },
  {
   "cell_type": "code",
   "execution_count": 3,
   "id": "8e8ca205",
   "metadata": {},
   "outputs": [],
   "source": [
    "data.dropna(inplace=True)  # Drop rows with missing values"
   ]
  },
  {
   "cell_type": "markdown",
   "id": "0a446811",
   "metadata": {},
   "source": [
    "### Step 2: Encoding Categorical Variables"
   ]
  },
  {
   "cell_type": "code",
   "execution_count": 4,
   "id": "702bf7ed",
   "metadata": {},
   "outputs": [],
   "source": [
    "label_encoders = {}\n",
    "categorical_columns = data.select_dtypes(include=['object']).columns\n",
    "\n",
    "for col in categorical_columns:\n",
    "    le = LabelEncoder()\n",
    "    data[col] = le.fit_transform(data[col])\n",
    "    label_encoders[col] = le"
   ]
  },
  {
   "cell_type": "markdown",
   "id": "e747f1dc",
   "metadata": {},
   "source": [
    "### Step 3: Feature Scaling"
   ]
  },
  {
   "cell_type": "code",
   "execution_count": 5,
   "id": "d2b8bc21",
   "metadata": {},
   "outputs": [],
   "source": [
    "scaler = StandardScaler()\n",
    "numerical_columns = data.select_dtypes(include=['int64', 'float64']).columns\n",
    "data[numerical_columns] = scaler.fit_transform(data[numerical_columns])"
   ]
  },
  {
   "cell_type": "code",
   "execution_count": 6,
   "id": "999ec15d",
   "metadata": {},
   "outputs": [
    {
     "name": "stdout",
     "output_type": "stream",
     "text": [
      "Preprocessed data saved to preprocessed_house_prices.csv\n"
     ]
    }
   ],
   "source": [
    "# Save the preprocessed data to a new CSV file\n",
    "data.to_csv(\"preprocessed_house_prices.csv\", index=False)\n",
    "\n",
    "print(\"Preprocessed data saved to preprocessed_house_prices.csv\")"
   ]
  },
  {
   "cell_type": "code",
   "execution_count": null,
   "id": "752918ca",
   "metadata": {},
   "outputs": [],
   "source": []
  },
  {
   "cell_type": "code",
   "execution_count": null,
   "id": "575f0a52",
   "metadata": {},
   "outputs": [],
   "source": []
  },
  {
   "cell_type": "code",
   "execution_count": null,
   "id": "b45c328e",
   "metadata": {},
   "outputs": [],
   "source": []
  },
  {
   "cell_type": "code",
   "execution_count": null,
   "id": "63266208",
   "metadata": {},
   "outputs": [],
   "source": []
  },
  {
   "cell_type": "code",
   "execution_count": null,
   "id": "f4ac0ba2",
   "metadata": {},
   "outputs": [],
   "source": []
  },
  {
   "cell_type": "code",
   "execution_count": null,
   "id": "58002c39",
   "metadata": {},
   "outputs": [],
   "source": []
  },
  {
   "cell_type": "code",
   "execution_count": null,
   "id": "6a77cbd1",
   "metadata": {},
   "outputs": [],
   "source": []
  }
 ],
 "metadata": {
  "kernelspec": {
   "display_name": "Python 3 (ipykernel)",
   "language": "python",
   "name": "python3"
  },
  "language_info": {
   "codemirror_mode": {
    "name": "ipython",
    "version": 3
   },
   "file_extension": ".py",
   "mimetype": "text/x-python",
   "name": "python",
   "nbconvert_exporter": "python",
   "pygments_lexer": "ipython3",
   "version": "3.11.5"
  }
 },
 "nbformat": 4,
 "nbformat_minor": 5
}
