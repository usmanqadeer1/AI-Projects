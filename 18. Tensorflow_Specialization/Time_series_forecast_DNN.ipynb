{
  "nbformat": 4,
  "nbformat_minor": 0,
  "metadata": {
    "colab": {
      "name": "Time_series_forecast_DNN.ipynb",
      "provenance": [],
      "collapsed_sections": [],
      "toc_visible": true,
      "include_colab_link": true
    },
    "kernelspec": {
      "display_name": "Python 3",
      "name": "python3"
    }
  },
  "cells": [
    {
      "cell_type": "markdown",
      "metadata": {
        "id": "view-in-github",
        "colab_type": "text"
      },
      "source": [
        "<a href=\"https://colab.research.google.com/github/usmanqadeer1/AI-MLProjects/blob/master/Tensorflow_Specialization/Time_series_forecast_DNN.ipynb\" target=\"_parent\"><img src=\"https://colab.research.google.com/assets/colab-badge.svg\" alt=\"Open In Colab\"/></a>"
      ]
    },
    {
      "cell_type": "code",
      "metadata": {
        "colab_type": "code",
        "id": "BOjujz601HcS",
        "colab": {
          "base_uri": "https://localhost:8080/",
          "height": 34
        },
        "outputId": "b53185fb-1760-4b26-d065-173e96f4ec81"
      },
      "source": [
        "import tensorflow as tf\n",
        "import numpy as np\n",
        "import matplotlib.pyplot as plt\n",
        "print(tf.__version__)"
      ],
      "execution_count": null,
      "outputs": [
        {
          "output_type": "stream",
          "text": [
            "2.3.0\n"
          ],
          "name": "stdout"
        }
      ]
    },
    {
      "cell_type": "code",
      "metadata": {
        "colab_type": "code",
        "id": "Zswl7jRtGzkk",
        "colab": {
          "base_uri": "https://localhost:8080/",
          "height": 278
        },
        "outputId": "509f65f1-1587-4065-b8e6-1cc140235147"
      },
      "source": [
        "def plot_series(time, series, format=\"-\", start=0, end=None):\n",
        "    plt.plot(time[start:end], series[start:end], format)\n",
        "    plt.xlabel(\"Time\")\n",
        "    plt.ylabel(\"Value\")\n",
        "    plt.grid(False)\n",
        "\n",
        "def trend(time, slope=0):\n",
        "    return slope * time\n",
        "\n",
        "def seasonal_pattern(season_time):\n",
        "    \"\"\"Just an arbitrary pattern, you can change it if you wish\"\"\"\n",
        "    return np.where(season_time < 0.1,\n",
        "                    np.cos(season_time * 2 * np.pi),\n",
        "                     1 / np.exp(8 * season_time))\n",
        "\n",
        "def seasonality(time, period, amplitude=1, phase=0):\n",
        "    \"\"\"Repeats the same pattern at each period\"\"\"\n",
        "    season_time = ((time + phase) % period) / period\n",
        "    return amplitude * seasonal_pattern(season_time)\n",
        "\n",
        "def noise(time, noise_level=1, seed=None):\n",
        "    rnd = np.random.RandomState(seed)\n",
        "    return rnd.randn(len(time)) * noise_level\n",
        "\n",
        "time = np.arange(10 * 365 + 1, dtype=\"float32\")\n",
        "baseline = 10\n",
        "series = trend(time, 0.1)  \n",
        "baseline = 10\n",
        "amplitude = 40\n",
        "slope = 0.005\n",
        "noise_level = 3\n",
        "\n",
        "# Create the series\n",
        "series = baseline + trend(time, slope) + seasonality(time, period=365, amplitude=amplitude)\n",
        "# Update with noise\n",
        "series += noise(time, noise_level, seed=51)\n",
        "\n",
        "split_time = 3000\n",
        "time_train = time[:split_time]\n",
        "x_train = series[:split_time]\n",
        "time_valid = time[split_time:]\n",
        "x_valid = series[split_time:]\n",
        "\n",
        "window_size = 20\n",
        "batch_size = 32\n",
        "shuffle_buffer_size = 1000\n",
        "\n",
        "plot_series(time, series)"
      ],
      "execution_count": null,
      "outputs": [
        {
          "output_type": "display_data",
          "data": {
            "image/png": "[encoded data removed]",
            "text/plain": [
              "<Figure size 432x288 with 1 Axes>"
            ]
          },
          "metadata": {
            "tags": [],
            "needs_background": "light"
          }
        }
      ]
    },
    {
      "cell_type": "markdown",
      "metadata": {
        "id": "NxK0ehMlSjSz",
        "colab_type": "text"
      },
      "source": [
        "#Learning rate test"
      ]
    },
    {
      "cell_type": "markdown",
      "metadata": {
        "colab_type": "text",
        "id": "GfUTNqti_lNC"
      },
      "source": [
        "Desired output -- a chart that looks like this:\n",
        "\n",
        "![Chart showing upward trend and seasonailty](http://www.laurencemoroney.com/wp-content/uploads/2019/07/plot1.png)"
      ]
    },
    {
      "cell_type": "code",
      "metadata": {
        "colab_type": "code",
        "id": "4sTTIOCbyShY",
        "colab": {}
      },
      "source": [
        "def windowed_dataset(series, window_size, batch_size, shuffle_buffer):\n",
        "  dataset = tf.data.Dataset.from_tensor_slices(series)\n",
        "  dataset = dataset.window(window_size + 1, shift=1, drop_remainder=True)\n",
        "  dataset = dataset.flat_map(lambda window: window.batch(window_size + 1))\n",
        "  dataset = dataset.shuffle(shuffle_buffer).map(lambda window: (window[:-1], window[-1]))\n",
        "  dataset = dataset.batch(batch_size).prefetch(1)\n",
        "  return dataset\n",
        "dataset = windowed_dataset(x_train, window_size, batch_size, shuffle_buffer_size)\n"
      ],
      "execution_count": null,
      "outputs": []
    },
    {
      "cell_type": "code",
      "metadata": {
        "id": "cE7-lts8QvFL",
        "colab_type": "code",
        "colab": {
          "base_uri": "https://localhost:8080/",
          "height": 1000
        },
        "outputId": "c4809181-753c-46e5-ce3d-7c7e2c15d75c"
      },
      "source": [
        "\n",
        "model = tf.keras.models.Sequential([\n",
        "    tf.keras.layers.Dense(100, activation = 'relu', input_shape=[window_size]),\n",
        "    tf.keras.layers.Dense(10, activation = 'relu'), \n",
        "    tf.keras.layers.Dense(1)\n",
        "])\n",
        "lr_schedule = tf.keras.callbacks.LearningRateScheduler(\n",
        "    lambda epoch: 1e-4 * 10**(epoch / 20))\n",
        "model.compile(loss=\"mse\", optimizer=tf.keras.optimizers.Adam(0.001))\n",
        "history = model.fit(dataset, epochs=100, callbacks=[lr_schedule])"
      ],
      "execution_count": null,
      "outputs": [
        {
          "output_type": "stream",
          "text": [
            "Epoch 1/100\n",
            "94/94 [==============================] - 0s 3ms/step - loss: 408.2348\n",
            "Epoch 2/100\n",
            "94/94 [==============================] - 0s 3ms/step - loss: 103.3297\n",
            "Epoch 3/100\n",
            "94/94 [==============================] - 0s 3ms/step - loss: 63.0900\n",
            "Epoch 4/100\n",
            "94/94 [==============================] - 0s 3ms/step - loss: 58.3809\n",
            "Epoch 5/100\n",
            "94/94 [==============================] - 0s 4ms/step - loss: 52.2508\n",
            "Epoch 6/100\n",
            "94/94 [==============================] - 0s 3ms/step - loss: 45.2040\n",
            "Epoch 7/100\n",
            "94/94 [==============================] - 0s 4ms/step - loss: 39.5242\n",
            "Epoch 8/100\n",
            "94/94 [==============================] - 0s 4ms/step - loss: 34.5979\n",
            "Epoch 9/100\n",
            "94/94 [==============================] - 0s 3ms/step - loss: 30.6333\n",
            "Epoch 10/100\n",
            "94/94 [==============================] - 0s 4ms/step - loss: 27.6956\n",
            "Epoch 11/100\n",
            "94/94 [==============================] - 0s 4ms/step - loss: 25.8273\n",
            "Epoch 12/100\n",
            "94/94 [==============================] - 0s 4ms/step - loss: 24.5360\n",
            "Epoch 13/100\n",
            "94/94 [==============================] - 0s 4ms/step - loss: 23.4299\n",
            "Epoch 14/100\n",
            "94/94 [==============================] - 0s 4ms/step - loss: 22.6773\n",
            "Epoch 15/100\n",
            "94/94 [==============================] - 0s 3ms/step - loss: 21.7985\n",
            "Epoch 16/100\n",
            "94/94 [==============================] - 0s 4ms/step - loss: 21.5548\n",
            "Epoch 17/100\n",
            "94/94 [==============================] - 0s 3ms/step - loss: 20.7002\n",
            "Epoch 18/100\n",
            "94/94 [==============================] - 0s 3ms/step - loss: 20.3466\n",
            "Epoch 19/100\n",
            "94/94 [==============================] - 0s 3ms/step - loss: 20.1135\n",
            "Epoch 20/100\n",
            "94/94 [==============================] - 0s 4ms/step - loss: 19.6670\n",
            "Epoch 21/100\n",
            "94/94 [==============================] - 0s 3ms/step - loss: 19.4163\n",
            "Epoch 22/100\n",
            "94/94 [==============================] - 0s 4ms/step - loss: 19.2995\n",
            "Epoch 23/100\n",
            "94/94 [==============================] - 0s 3ms/step - loss: 18.9421\n",
            "Epoch 24/100\n",
            "94/94 [==============================] - 0s 4ms/step - loss: 19.7022\n",
            "Epoch 25/100\n",
            "94/94 [==============================] - 0s 3ms/step - loss: 19.1721\n",
            "Epoch 26/100\n",
            "94/94 [==============================] - 0s 4ms/step - loss: 18.7539\n",
            "Epoch 27/100\n",
            "94/94 [==============================] - 0s 4ms/step - loss: 18.8231\n",
            "Epoch 28/100\n",
            "94/94 [==============================] - 0s 3ms/step - loss: 18.8982\n",
            "Epoch 29/100\n",
            "94/94 [==============================] - 0s 4ms/step - loss: 18.2004\n",
            "Epoch 30/100\n",
            "94/94 [==============================] - 0s 3ms/step - loss: 18.2210\n",
            "Epoch 31/100\n",
            "94/94 [==============================] - 0s 4ms/step - loss: 19.4374\n",
            "Epoch 32/100\n",
            "94/94 [==============================] - 0s 4ms/step - loss: 18.3238\n",
            "Epoch 33/100\n",
            "94/94 [==============================] - 0s 3ms/step - loss: 18.4725\n",
            "Epoch 34/100\n",
            "94/94 [==============================] - 0s 4ms/step - loss: 19.4316\n",
            "Epoch 35/100\n",
            "94/94 [==============================] - 0s 4ms/step - loss: 18.0539\n",
            "Epoch 36/100\n",
            "94/94 [==============================] - 0s 3ms/step - loss: 18.2400\n",
            "Epoch 37/100\n",
            "94/94 [==============================] - 0s 3ms/step - loss: 20.4492\n",
            "Epoch 38/100\n",
            "94/94 [==============================] - 0s 4ms/step - loss: 18.3594\n",
            "Epoch 39/100\n",
            "94/94 [==============================] - 0s 4ms/step - loss: 18.9048\n",
            "Epoch 40/100\n",
            "94/94 [==============================] - 0s 4ms/step - loss: 23.1261\n",
            "Epoch 41/100\n",
            "94/94 [==============================] - 0s 4ms/step - loss: 18.6241\n",
            "Epoch 42/100\n",
            "94/94 [==============================] - 0s 4ms/step - loss: 19.0666\n",
            "Epoch 43/100\n",
            "94/94 [==============================] - 0s 4ms/step - loss: 17.9445\n",
            "Epoch 44/100\n",
            "94/94 [==============================] - 0s 4ms/step - loss: 20.7118\n",
            "Epoch 45/100\n",
            "94/94 [==============================] - 0s 4ms/step - loss: 18.9798\n",
            "Epoch 46/100\n",
            "94/94 [==============================] - 0s 4ms/step - loss: 19.4382\n",
            "Epoch 47/100\n",
            "94/94 [==============================] - 0s 4ms/step - loss: 19.1139\n",
            "Epoch 48/100\n",
            "94/94 [==============================] - 0s 3ms/step - loss: 22.6594\n",
            "Epoch 49/100\n",
            "94/94 [==============================] - 0s 3ms/step - loss: 23.3721\n",
            "Epoch 50/100\n",
            "94/94 [==============================] - 0s 4ms/step - loss: 21.8342\n",
            "Epoch 51/100\n",
            "94/94 [==============================] - 0s 4ms/step - loss: 28.7918\n",
            "Epoch 52/100\n",
            "94/94 [==============================] - 0s 4ms/step - loss: 22.5691\n",
            "Epoch 53/100\n",
            "94/94 [==============================] - 0s 3ms/step - loss: 21.8290\n",
            "Epoch 54/100\n",
            "94/94 [==============================] - 0s 4ms/step - loss: 21.2642\n",
            "Epoch 55/100\n",
            "94/94 [==============================] - 0s 3ms/step - loss: 19.0789\n",
            "Epoch 56/100\n",
            "94/94 [==============================] - 0s 4ms/step - loss: 21.0993\n",
            "Epoch 57/100\n",
            "94/94 [==============================] - 0s 4ms/step - loss: 36.4871\n",
            "Epoch 58/100\n",
            "94/94 [==============================] - 0s 3ms/step - loss: 22.9216\n",
            "Epoch 59/100\n",
            "94/94 [==============================] - 0s 4ms/step - loss: 27.9500\n",
            "Epoch 60/100\n",
            "94/94 [==============================] - 0s 4ms/step - loss: 23.2241\n",
            "Epoch 61/100\n",
            "94/94 [==============================] - 0s 5ms/step - loss: 24.8322\n",
            "Epoch 62/100\n",
            "94/94 [==============================] - 0s 4ms/step - loss: 29.6482\n",
            "Epoch 63/100\n",
            "94/94 [==============================] - 0s 4ms/step - loss: 51.7379\n",
            "Epoch 64/100\n",
            "94/94 [==============================] - 0s 4ms/step - loss: 31.5784\n",
            "Epoch 65/100\n",
            "94/94 [==============================] - 0s 4ms/step - loss: 32.0040\n",
            "Epoch 66/100\n",
            "94/94 [==============================] - 0s 4ms/step - loss: 26.4333\n",
            "Epoch 67/100\n",
            "94/94 [==============================] - 0s 4ms/step - loss: 32.7766\n",
            "Epoch 68/100\n",
            "94/94 [==============================] - 0s 4ms/step - loss: 33.0764\n",
            "Epoch 69/100\n",
            "94/94 [==============================] - 0s 4ms/step - loss: 27.2472\n",
            "Epoch 70/100\n",
            "94/94 [==============================] - 0s 4ms/step - loss: 50.8452\n",
            "Epoch 71/100\n",
            "94/94 [==============================] - 0s 4ms/step - loss: 46.4711\n",
            "Epoch 72/100\n",
            "94/94 [==============================] - 0s 4ms/step - loss: 101.3882\n",
            "Epoch 73/100\n",
            "94/94 [==============================] - 0s 4ms/step - loss: 163.8794\n",
            "Epoch 74/100\n",
            "94/94 [==============================] - 0s 4ms/step - loss: 156.8061\n",
            "Epoch 75/100\n",
            "94/94 [==============================] - 0s 4ms/step - loss: 157.3200\n",
            "Epoch 76/100\n",
            "94/94 [==============================] - 0s 3ms/step - loss: 157.4527\n",
            "Epoch 77/100\n",
            "94/94 [==============================] - 0s 4ms/step - loss: 154.8244\n",
            "Epoch 78/100\n",
            "94/94 [==============================] - 0s 3ms/step - loss: 155.8934\n",
            "Epoch 79/100\n",
            "94/94 [==============================] - 0s 4ms/step - loss: 153.7816\n",
            "Epoch 80/100\n",
            "94/94 [==============================] - 0s 3ms/step - loss: 156.8420\n",
            "Epoch 81/100\n",
            "94/94 [==============================] - 0s 3ms/step - loss: 155.4747\n",
            "Epoch 82/100\n",
            "94/94 [==============================] - 0s 4ms/step - loss: 156.2234\n",
            "Epoch 83/100\n",
            "94/94 [==============================] - 0s 4ms/step - loss: 159.4908\n",
            "Epoch 84/100\n",
            "94/94 [==============================] - 0s 4ms/step - loss: 152.1877\n",
            "Epoch 85/100\n",
            "94/94 [==============================] - 0s 4ms/step - loss: 156.4033\n",
            "Epoch 86/100\n",
            "94/94 [==============================] - 0s 3ms/step - loss: 154.6013\n",
            "Epoch 87/100\n",
            "94/94 [==============================] - 0s 3ms/step - loss: 153.9273\n",
            "Epoch 88/100\n",
            "94/94 [==============================] - 0s 3ms/step - loss: 159.9393\n",
            "Epoch 89/100\n",
            "94/94 [==============================] - 0s 4ms/step - loss: 155.5169\n",
            "Epoch 90/100\n",
            "94/94 [==============================] - 0s 4ms/step - loss: 161.8793\n",
            "Epoch 91/100\n",
            "94/94 [==============================] - 0s 4ms/step - loss: 158.7605\n",
            "Epoch 92/100\n",
            "94/94 [==============================] - 0s 3ms/step - loss: 158.0974\n",
            "Epoch 93/100\n",
            "94/94 [==============================] - 0s 4ms/step - loss: 155.7997\n",
            "Epoch 94/100\n",
            "94/94 [==============================] - 0s 4ms/step - loss: 154.4042\n",
            "Epoch 95/100\n",
            "94/94 [==============================] - 0s 4ms/step - loss: 156.0775\n",
            "Epoch 96/100\n",
            "94/94 [==============================] - 0s 4ms/step - loss: 159.3796\n",
            "Epoch 97/100\n",
            "94/94 [==============================] - 0s 4ms/step - loss: 158.7531\n",
            "Epoch 98/100\n",
            "94/94 [==============================] - 0s 3ms/step - loss: 160.0688\n",
            "Epoch 99/100\n",
            "94/94 [==============================] - 0s 4ms/step - loss: 163.5779\n",
            "Epoch 100/100\n",
            "94/94 [==============================] - 0s 3ms/step - loss: 162.6564\n"
          ],
          "name": "stdout"
        }
      ]
    },
    {
      "cell_type": "code",
      "metadata": {
        "id": "H5UMCqalS3jm",
        "colab_type": "code",
        "colab": {
          "base_uri": "https://localhost:8080/",
          "height": 285
        },
        "outputId": "c9028e49-edfd-49e8-efe4-22291ac8d204"
      },
      "source": [
        "lrs = 1e-4 * (10 ** (np.arange(100) / 20))\n",
        "plt.semilogx(lrs, history.history[\"loss\"])\n",
        "# plt.axis([1e-3, 1e-5, 0, 300])"
      ],
      "execution_count": null,
      "outputs": [
        {
          "output_type": "execute_result",
          "data": {
            "text/plain": [
              "[<matplotlib.lines.Line2D at 0x7f1ceebdc6a0>]"
            ]
          },
          "metadata": {
            "tags": []
          },
          "execution_count": 53
        },
        {
          "output_type": "display_data",
          "data": {
            "image/png": "[encoded data removed]",
            "text/plain": [
              "<Figure size 432x288 with 1 Axes>"
            ]
          },
          "metadata": {
            "tags": [],
            "needs_background": "light"
          }
        }
      ]
    },
    {
      "cell_type": "code",
      "metadata": {
        "id": "obTZ94XnV92A",
        "colab_type": "code",
        "colab": {
          "base_uri": "https://localhost:8080/",
          "height": 34
        },
        "outputId": "99b51f1c-cc22-4e4b-eda6-ffc88c41d924"
      },
      "source": [
        "lrs[np.argmin(history.history[\"loss\"])]"
      ],
      "execution_count": null,
      "outputs": [
        {
          "output_type": "execute_result",
          "data": {
            "text/plain": [
              "0.012589254117941677"
            ]
          },
          "metadata": {
            "tags": []
          },
          "execution_count": 58
        }
      ]
    },
    {
      "cell_type": "markdown",
      "metadata": {
        "id": "axaZgZJWVMBH",
        "colab_type": "text"
      },
      "source": [
        "# Training"
      ]
    },
    {
      "cell_type": "code",
      "metadata": {
        "colab_type": "code",
        "id": "TW-vT7eLYAdb",
        "colab": {
          "base_uri": "https://localhost:8080/",
          "height": 1000
        },
        "outputId": "05f62d2f-65e1-40d0-f058-c8e821acc17c"
      },
      "source": [
        "model = tf.keras.models.Sequential([\n",
        "    tf.keras.layers.Dense(100, activation = 'relu', input_shape=[window_size]),\n",
        "    tf.keras.layers.Dense(10, activation = 'relu'), \n",
        "    tf.keras.layers.Dense(1)\n",
        "])\n",
        "\n",
        "model.compile(loss='mse', optimizer = tf.keras.optimizers.Adam(0.001))\n",
        "model.fit(dataset,epochs=100)\n"
      ],
      "execution_count": null,
      "outputs": [
        {
          "output_type": "stream",
          "text": [
            "Epoch 1/100\n",
            "94/94 [==============================] - 0s 3ms/step - loss: 41.3493\n",
            "Epoch 2/100\n",
            "94/94 [==============================] - 0s 3ms/step - loss: 21.9143\n",
            "Epoch 3/100\n",
            "94/94 [==============================] - 0s 3ms/step - loss: 20.5329\n",
            "Epoch 4/100\n",
            "94/94 [==============================] - 0s 4ms/step - loss: 20.5362\n",
            "Epoch 5/100\n",
            "94/94 [==============================] - 0s 3ms/step - loss: 20.1003\n",
            "Epoch 6/100\n",
            "94/94 [==============================] - 0s 4ms/step - loss: 20.9587\n",
            "Epoch 7/100\n",
            "94/94 [==============================] - 0s 4ms/step - loss: 19.1200\n",
            "Epoch 8/100\n",
            "94/94 [==============================] - 0s 4ms/step - loss: 19.1588\n",
            "Epoch 9/100\n",
            "94/94 [==============================] - 0s 4ms/step - loss: 18.5704\n",
            "Epoch 10/100\n",
            "94/94 [==============================] - 0s 3ms/step - loss: 18.5482\n",
            "Epoch 11/100\n",
            "94/94 [==============================] - 0s 4ms/step - loss: 18.9127\n",
            "Epoch 12/100\n",
            "94/94 [==============================] - 0s 4ms/step - loss: 18.0314\n",
            "Epoch 13/100\n",
            "94/94 [==============================] - 0s 3ms/step - loss: 18.4672\n",
            "Epoch 14/100\n",
            "94/94 [==============================] - 0s 4ms/step - loss: 18.2438\n",
            "Epoch 15/100\n",
            "94/94 [==============================] - 0s 3ms/step - loss: 18.2855\n",
            "Epoch 16/100\n",
            "94/94 [==============================] - 0s 4ms/step - loss: 21.6452\n",
            "Epoch 17/100\n",
            "94/94 [==============================] - 0s 4ms/step - loss: 17.9832\n",
            "Epoch 18/100\n",
            "94/94 [==============================] - 0s 4ms/step - loss: 18.0432\n",
            "Epoch 19/100\n",
            "94/94 [==============================] - 0s 4ms/step - loss: 18.0634\n",
            "Epoch 20/100\n",
            "94/94 [==============================] - 0s 3ms/step - loss: 20.6225\n",
            "Epoch 21/100\n",
            "94/94 [==============================] - 0s 3ms/step - loss: 17.6445\n",
            "Epoch 22/100\n",
            "94/94 [==============================] - 0s 4ms/step - loss: 17.6672\n",
            "Epoch 23/100\n",
            "94/94 [==============================] - 0s 3ms/step - loss: 17.3999\n",
            "Epoch 24/100\n",
            "94/94 [==============================] - 0s 4ms/step - loss: 18.1537\n",
            "Epoch 25/100\n",
            "94/94 [==============================] - 0s 3ms/step - loss: 18.0206\n",
            "Epoch 26/100\n",
            "94/94 [==============================] - 0s 3ms/step - loss: 19.1358\n",
            "Epoch 27/100\n",
            "94/94 [==============================] - 0s 3ms/step - loss: 18.4991\n",
            "Epoch 28/100\n",
            "94/94 [==============================] - 0s 3ms/step - loss: 18.7509\n",
            "Epoch 29/100\n",
            "94/94 [==============================] - 0s 4ms/step - loss: 18.1207\n",
            "Epoch 30/100\n",
            "94/94 [==============================] - 0s 4ms/step - loss: 17.2798\n",
            "Epoch 31/100\n",
            "94/94 [==============================] - 0s 4ms/step - loss: 17.9317\n",
            "Epoch 32/100\n",
            "94/94 [==============================] - 0s 3ms/step - loss: 17.4424\n",
            "Epoch 33/100\n",
            "94/94 [==============================] - 0s 3ms/step - loss: 19.8359\n",
            "Epoch 34/100\n",
            "94/94 [==============================] - 0s 4ms/step - loss: 17.7074\n",
            "Epoch 35/100\n",
            "94/94 [==============================] - 0s 4ms/step - loss: 19.9199\n",
            "Epoch 36/100\n",
            "94/94 [==============================] - 0s 4ms/step - loss: 19.1402\n",
            "Epoch 37/100\n",
            "94/94 [==============================] - 0s 3ms/step - loss: 18.3499\n",
            "Epoch 38/100\n",
            "94/94 [==============================] - 0s 3ms/step - loss: 17.6808\n",
            "Epoch 39/100\n",
            "94/94 [==============================] - 0s 4ms/step - loss: 18.2071\n",
            "Epoch 40/100\n",
            "94/94 [==============================] - 0s 3ms/step - loss: 17.4635\n",
            "Epoch 41/100\n",
            "94/94 [==============================] - 0s 4ms/step - loss: 18.1332\n",
            "Epoch 42/100\n",
            "94/94 [==============================] - 0s 3ms/step - loss: 17.3528\n",
            "Epoch 43/100\n",
            "94/94 [==============================] - 0s 4ms/step - loss: 17.5764\n",
            "Epoch 44/100\n",
            "94/94 [==============================] - 0s 4ms/step - loss: 18.2299\n",
            "Epoch 45/100\n",
            "94/94 [==============================] - 0s 4ms/step - loss: 18.4164\n",
            "Epoch 46/100\n",
            "94/94 [==============================] - 0s 4ms/step - loss: 19.6158\n",
            "Epoch 47/100\n",
            "94/94 [==============================] - 0s 4ms/step - loss: 19.2890\n",
            "Epoch 48/100\n",
            "94/94 [==============================] - 0s 4ms/step - loss: 18.1286\n",
            "Epoch 49/100\n",
            "94/94 [==============================] - 0s 4ms/step - loss: 17.9997\n",
            "Epoch 50/100\n",
            "94/94 [==============================] - 0s 3ms/step - loss: 17.4031\n",
            "Epoch 51/100\n",
            "94/94 [==============================] - 0s 4ms/step - loss: 17.6223\n",
            "Epoch 52/100\n",
            "94/94 [==============================] - 0s 4ms/step - loss: 18.2632\n",
            "Epoch 53/100\n",
            "94/94 [==============================] - 0s 3ms/step - loss: 17.7745\n",
            "Epoch 54/100\n",
            "94/94 [==============================] - 0s 4ms/step - loss: 17.7486\n",
            "Epoch 55/100\n",
            "94/94 [==============================] - 0s 3ms/step - loss: 19.3658\n",
            "Epoch 56/100\n",
            "94/94 [==============================] - 0s 4ms/step - loss: 17.3039\n",
            "Epoch 57/100\n",
            "94/94 [==============================] - 0s 3ms/step - loss: 17.6532\n",
            "Epoch 58/100\n",
            "94/94 [==============================] - 0s 4ms/step - loss: 17.3655\n",
            "Epoch 59/100\n",
            "94/94 [==============================] - 0s 4ms/step - loss: 17.8534\n",
            "Epoch 60/100\n",
            "94/94 [==============================] - 0s 3ms/step - loss: 17.9145\n",
            "Epoch 61/100\n",
            "94/94 [==============================] - 0s 3ms/step - loss: 17.6531\n",
            "Epoch 62/100\n",
            "94/94 [==============================] - 0s 4ms/step - loss: 18.5933\n",
            "Epoch 63/100\n",
            "94/94 [==============================] - 0s 3ms/step - loss: 17.2152\n",
            "Epoch 64/100\n",
            "94/94 [==============================] - 0s 3ms/step - loss: 17.1242\n",
            "Epoch 65/100\n",
            "94/94 [==============================] - 0s 4ms/step - loss: 17.3193\n",
            "Epoch 66/100\n",
            "94/94 [==============================] - 0s 4ms/step - loss: 17.6555\n",
            "Epoch 67/100\n",
            "94/94 [==============================] - 0s 4ms/step - loss: 17.2916\n",
            "Epoch 68/100\n",
            "94/94 [==============================] - 0s 3ms/step - loss: 17.5980\n",
            "Epoch 69/100\n",
            "94/94 [==============================] - 0s 4ms/step - loss: 17.3809\n",
            "Epoch 70/100\n",
            "94/94 [==============================] - 0s 3ms/step - loss: 17.5147\n",
            "Epoch 71/100\n",
            "94/94 [==============================] - 0s 4ms/step - loss: 17.7441\n",
            "Epoch 72/100\n",
            "94/94 [==============================] - 0s 4ms/step - loss: 18.6948\n",
            "Epoch 73/100\n",
            "94/94 [==============================] - 0s 4ms/step - loss: 19.5296\n",
            "Epoch 74/100\n",
            "94/94 [==============================] - 0s 3ms/step - loss: 17.8459\n",
            "Epoch 75/100\n",
            "94/94 [==============================] - 0s 4ms/step - loss: 18.1460\n",
            "Epoch 76/100\n",
            "94/94 [==============================] - 0s 4ms/step - loss: 17.2922\n",
            "Epoch 77/100\n",
            "94/94 [==============================] - 0s 3ms/step - loss: 17.7183\n",
            "Epoch 78/100\n",
            "94/94 [==============================] - 0s 4ms/step - loss: 17.0809\n",
            "Epoch 79/100\n",
            "94/94 [==============================] - 0s 4ms/step - loss: 17.8577\n",
            "Epoch 80/100\n",
            "94/94 [==============================] - 0s 4ms/step - loss: 17.7093\n",
            "Epoch 81/100\n",
            "94/94 [==============================] - 0s 3ms/step - loss: 17.4253\n",
            "Epoch 82/100\n",
            "94/94 [==============================] - 0s 4ms/step - loss: 17.8837\n",
            "Epoch 83/100\n",
            "94/94 [==============================] - 0s 4ms/step - loss: 17.6675\n",
            "Epoch 84/100\n",
            "94/94 [==============================] - 0s 4ms/step - loss: 17.7042\n",
            "Epoch 85/100\n",
            "94/94 [==============================] - 0s 4ms/step - loss: 18.4867\n",
            "Epoch 86/100\n",
            "94/94 [==============================] - 0s 4ms/step - loss: 17.2705\n",
            "Epoch 87/100\n",
            "94/94 [==============================] - 0s 4ms/step - loss: 17.1718\n",
            "Epoch 88/100\n",
            "94/94 [==============================] - 0s 4ms/step - loss: 17.5825\n",
            "Epoch 89/100\n",
            "94/94 [==============================] - 0s 3ms/step - loss: 17.4500\n",
            "Epoch 90/100\n",
            "94/94 [==============================] - 0s 4ms/step - loss: 17.8850\n",
            "Epoch 91/100\n",
            "94/94 [==============================] - 0s 4ms/step - loss: 18.0978\n",
            "Epoch 92/100\n",
            "94/94 [==============================] - 0s 4ms/step - loss: 17.2872\n",
            "Epoch 93/100\n",
            "94/94 [==============================] - 0s 4ms/step - loss: 17.7015\n",
            "Epoch 94/100\n",
            "94/94 [==============================] - 0s 4ms/step - loss: 17.3657\n",
            "Epoch 95/100\n",
            "94/94 [==============================] - 0s 4ms/step - loss: 17.2639\n",
            "Epoch 96/100\n",
            "94/94 [==============================] - 0s 4ms/step - loss: 18.5334\n",
            "Epoch 97/100\n",
            "94/94 [==============================] - 0s 4ms/step - loss: 17.2603\n",
            "Epoch 98/100\n",
            "94/94 [==============================] - 0s 4ms/step - loss: 17.1208\n",
            "Epoch 99/100\n",
            "94/94 [==============================] - 0s 4ms/step - loss: 17.4940\n",
            "Epoch 100/100\n",
            "94/94 [==============================] - 0s 3ms/step - loss: 17.4508\n"
          ],
          "name": "stdout"
        },
        {
          "output_type": "execute_result",
          "data": {
            "text/plain": [
              "<tensorflow.python.keras.callbacks.History at 0x7f1ce21e4cf8>"
            ]
          },
          "metadata": {
            "tags": []
          },
          "execution_count": 59
        }
      ]
    },
    {
      "cell_type": "code",
      "metadata": {
        "colab_type": "code",
        "id": "efhco2rYyIFF",
        "colab": {
          "base_uri": "https://localhost:8080/",
          "height": 388
        },
        "outputId": "9ddc94bc-c65e-4e22-f142-be8b426e9929"
      },
      "source": [
        "forecast = []\n",
        "for time in range(len(series) - window_size):\n",
        "  forecast.append(model.predict(series[time:time + window_size][np.newaxis]))\n",
        "\n",
        "forecast = forecast[split_time-window_size:]\n",
        "results = np.array(forecast)[:, 0, 0]\n",
        "\n",
        "\n",
        "plt.figure(figsize=(10, 6))\n",
        "\n",
        "plot_series(time_valid, x_valid)\n",
        "plot_series(time_valid, results)"
      ],
      "execution_count": null,
      "outputs": [
        {
          "output_type": "display_data",
          "data": {
            "image/png": "[encoded data removed]",
            "text/plain": [
              "<Figure size 720x432 with 1 Axes>"
            ]
          },
          "metadata": {
            "tags": [],
            "needs_background": "light"
          }
        }
      ]
    },
    {
      "cell_type": "code",
      "metadata": {
        "colab_type": "code",
        "id": "-kT6j186YO6K",
        "colab": {
          "base_uri": "https://localhost:8080/",
          "height": 34
        },
        "outputId": "e5bfef7f-89a4-4ad0-e37f-a607a8628156"
      },
      "source": [
        "tf.keras.metrics.mean_absolute_error(x_valid, results).numpy()\n"
      ],
      "execution_count": null,
      "outputs": [
        {
          "output_type": "execute_result",
          "data": {
            "text/plain": [
              "2.92271"
            ]
          },
          "metadata": {
            "tags": []
          },
          "execution_count": 40
        }
      ]
    }
  ]
}