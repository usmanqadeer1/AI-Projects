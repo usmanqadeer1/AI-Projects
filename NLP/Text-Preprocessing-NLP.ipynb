{
 "cells": [
  {
   "cell_type": "markdown",
   "id": "64f62468",
   "metadata": {},
   "source": [
    "# Text Preprocessing - NLP"
   ]
  },
  {
   "cell_type": "code",
   "execution_count": 1,
   "id": "32b75f4d",
   "metadata": {},
   "outputs": [],
   "source": [
    "# !pip install nltk"
   ]
  },
  {
   "cell_type": "markdown",
   "id": "d246cabc",
   "metadata": {},
   "source": [
    "### Step 1: Import Necessary Libraries"
   ]
  },
  {
   "cell_type": "code",
   "execution_count": 2,
   "id": "c5c1cbef",
   "metadata": {},
   "outputs": [],
   "source": [
    "import nltk\n",
    "from nltk.corpus import stopwords\n",
    "from nltk.tokenize import word_tokenize\n",
    "import string\n",
    "import warnings\n",
    "warnings.filterwarnings(\"ignore\")"
   ]
  },
  {
   "cell_type": "markdown",
   "id": "4f945006",
   "metadata": {},
   "source": [
    "### Step 2: Sample Text"
   ]
  },
  {
   "cell_type": "code",
   "execution_count": 3,
   "id": "99bbea43",
   "metadata": {},
   "outputs": [],
   "source": [
    "text = \"This is a simple example: we're going to preprocess this text, removing stopwords and punctuation.\""
   ]
  },
  {
   "cell_type": "markdown",
   "id": "94643b4c",
   "metadata": {},
   "source": [
    "### Step 3: Tokenization"
   ]
  },
  {
   "cell_type": "code",
   "execution_count": 4,
   "id": "9f3620cc",
   "metadata": {},
   "outputs": [],
   "source": [
    "words = word_tokenize(text)"
   ]
  },
  {
   "cell_type": "markdown",
   "id": "9445d7ed",
   "metadata": {},
   "source": [
    "### Step 4: Text Cleaning"
   ]
  },
  {
   "cell_type": "code",
   "execution_count": 5,
   "id": "99ef7920",
   "metadata": {},
   "outputs": [],
   "source": [
    "# Remove punctuation and convert to lowercase\n",
    "cleaned_words = [word.lower() for word in words if word.isalpha()]"
   ]
  },
  {
   "cell_type": "markdown",
   "id": "cf1ad8a9",
   "metadata": {},
   "source": [
    "### Step 5: Stop Words Removal"
   ]
  },
  {
   "cell_type": "code",
   "execution_count": 6,
   "id": "9ded4c72",
   "metadata": {},
   "outputs": [
    {
     "name": "stderr",
     "output_type": "stream",
     "text": [
      "[nltk_data] Downloading package stopwords to\n",
      "[nltk_data]     C:\\Users\\kavit\\AppData\\Roaming\\nltk_data...\n",
      "[nltk_data]   Package stopwords is already up-to-date!\n"
     ]
    }
   ],
   "source": [
    "nltk.download('stopwords')\n",
    "stop_words = set(stopwords.words('english'))\n",
    "filtered_words = [word for word in cleaned_words if word not in stop_words]"
   ]
  },
  {
   "cell_type": "markdown",
   "id": "c79e97e4",
   "metadata": {},
   "source": [
    "### Step 6: Print Results"
   ]
  },
  {
   "cell_type": "code",
   "execution_count": 7,
   "id": "1c7822f4",
   "metadata": {},
   "outputs": [
    {
     "name": "stdout",
     "output_type": "stream",
     "text": [
      "Original Text:\n",
      "This is a simple example: we're going to preprocess this text, removing stopwords and punctuation.\n",
      "\n",
      "Tokenized Text:\n",
      "['This', 'is', 'a', 'simple', 'example', ':', 'we', \"'re\", 'going', 'to', 'preprocess', 'this', 'text', ',', 'removing', 'stopwords', 'and', 'punctuation', '.']\n",
      "\n",
      "Cleaned and Stop Words Removed:\n",
      "['simple', 'example', 'going', 'preprocess', 'text', 'removing', 'stopwords', 'punctuation']\n"
     ]
    }
   ],
   "source": [
    "print(\"Original Text:\")\n",
    "print(text)\n",
    "\n",
    "print(\"\\nTokenized Text:\")\n",
    "print(words)\n",
    "\n",
    "print(\"\\nCleaned and Stop Words Removed:\")\n",
    "print(filtered_words)"
   ]
  },
  {
   "cell_type": "code",
   "execution_count": null,
   "id": "f260cbc9",
   "metadata": {},
   "outputs": [],
   "source": []
  }
 ],
 "metadata": {
  "kernelspec": {
   "display_name": "Python 3 (ipykernel)",
   "language": "python",
   "name": "python3"
  },
  "language_info": {
   "codemirror_mode": {
    "name": "ipython",
    "version": 3
   },
   "file_extension": ".py",
   "mimetype": "text/x-python",
   "name": "python",
   "nbconvert_exporter": "python",
   "pygments_lexer": "ipython3",
   "version": "3.11.5"
  }
 },
 "nbformat": 4,
 "nbformat_minor": 5
}
