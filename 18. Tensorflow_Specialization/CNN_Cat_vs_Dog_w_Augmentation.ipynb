{
  "nbformat": 4,
  "nbformat_minor": 0,
  "metadata": {
    "accelerator": "GPU",
    "colab": {
      "name": "CNN - Cat vs Dog w/ Augmentation.ipynb",
      "provenance": [],
      "collapsed_sections": [],
      "toc_visible": true,
      "include_colab_link": true
    },
    "kernelspec": {
      "display_name": "Python 3",
      "name": "python3"
    }
  },
  "cells": [
    {
      "cell_type": "markdown",
      "metadata": {
        "id": "view-in-github",
        "colab_type": "text"
      },
      "source": [
        "<a href=\"https://colab.research.google.com/github/usmanqadeer1/AI-MLProjects/blob/master/Tensorflow_Specialization/CNN_Cat_vs_Dog_w_Augmentation.ipynb\" target=\"_parent\"><img src=\"https://colab.research.google.com/assets/colab-badge.svg\" alt=\"Open In Colab\"/></a>"
      ]
    },
    {
      "cell_type": "code",
      "metadata": {
        "colab_type": "code",
        "id": "dn-6c02VmqiN",
        "colab": {}
      },
      "source": [
        "# In this exercise you will train a CNN on the FULL Cats-v-dogs dataset\n",
        "# This will require you doing a lot of data preprocessing because\n",
        "# the dataset isn't split into training and validation for you\n",
        "# This code block has all the required inputs\n",
        "import os\n",
        "import zipfile\n",
        "import random\n",
        "import tensorflow as tf\n",
        "from tensorflow.keras.optimizers import RMSprop\n",
        "from tensorflow.keras.preprocessing.image import ImageDataGenerator\n",
        "from shutil import copyfile"
      ],
      "execution_count": 1,
      "outputs": []
    },
    {
      "cell_type": "code",
      "metadata": {
        "colab_type": "code",
        "id": "3sd9dQWa23aj",
        "colab": {
          "base_uri": "https://localhost:8080/",
          "height": 203
        },
        "outputId": "b796a3c8-9cfb-4536-8ef2-57ac6a9cc228"
      },
      "source": [
        "# This code block downloads the full Cats-v-Dogs dataset and stores it as \n",
        "# cats-and-dogs.zip. It then unzips it to /tmp\n",
        "# which will create a tmp/PetImages directory containing subdirectories\n",
        "# called 'Cat' and 'Dog' (that's how the original researchers structured it)\n",
        "# If the URL doesn't work, \n",
        "# .   visit https://www.microsoft.com/en-us/download/confirmation.aspx?id=54765\n",
        "# And right click on the 'Download Manually' link to get a new URL\n",
        "\n",
        "!wget --no-check-certificate \\\n",
        "    \"https://download.microsoft.com/download/3/E/1/3E1C3F21-ECDB-4869-8368-6DEBA77B919F/kagglecatsanddogs_3367a.zip\" \\\n",
        "    -O \"/tmp/cats-and-dogs.zip\"\n",
        "\n",
        "local_zip = '/tmp/cats-and-dogs.zip'\n",
        "zip_ref = zipfile.ZipFile(local_zip, 'r')\n",
        "zip_ref.extractall('/tmp')\n",
        "zip_ref.close()\n"
      ],
      "execution_count": 2,
      "outputs": [
        {
          "output_type": "stream",
          "text": [
            "--2020-09-20 15:12:35--  https://download.microsoft.com/download/3/E/1/3E1C3F21-ECDB-4869-8368-6DEBA77B919F/kagglecatsanddogs_3367a.zip\n",
            "Resolving download.microsoft.com (download.microsoft.com)... 173.222.228.51, 2600:1409:12:2af::e59, 2600:1409:12:285::e59\n",
            "Connecting to download.microsoft.com (download.microsoft.com)|173.222.228.51|:443... connected.\n",
            "HTTP request sent, awaiting response... 200 OK\n",
            "Length: 824894548 (787M) [application/octet-stream]\n",
            "Saving to: ‘/tmp/cats-and-dogs.zip’\n",
            "\n",
            "/tmp/cats-and-dogs. 100%[===================>] 786.68M   145MB/s    in 5.5s    \n",
            "\n",
            "2020-09-20 15:12:40 (143 MB/s) - ‘/tmp/cats-and-dogs.zip’ saved [824894548/824894548]\n",
            "\n"
          ],
          "name": "stdout"
        }
      ]
    },
    {
      "cell_type": "code",
      "metadata": {
        "colab_type": "code",
        "id": "gi3yD62a6X3S",
        "colab": {
          "base_uri": "https://localhost:8080/",
          "height": 50
        },
        "outputId": "873cac48-aec9-4ec9-8159-8cf008d23dc9"
      },
      "source": [
        "print(len(os.listdir('/tmp/PetImages/Cat/')))\n",
        "print(len(os.listdir('/tmp/PetImages/Dog/')))\n"
      ],
      "execution_count": 3,
      "outputs": [
        {
          "output_type": "stream",
          "text": [
            "12501\n",
            "12501\n"
          ],
          "name": "stdout"
        }
      ]
    },
    {
      "cell_type": "code",
      "metadata": {
        "colab_type": "code",
        "id": "F-QkLjxpmyK2",
        "colab": {
          "base_uri": "https://localhost:8080/",
          "height": 135
        },
        "outputId": "9135e499-6089-455f-9d53-81cb04f4bff4"
      },
      "source": [
        "# Use os.mkdir to create your directories\n",
        "# You will need a directory for cats-v-dogs, and subdirectories for training\n",
        "# and testing. These in turn will need subdirectories for 'cats' and 'dogs'\n",
        "MAIN_DIR = '/tmp/cats-v-dogs'\n",
        "TRAINING_DIR = '/tmp/cats-v-dogs/training'\n",
        "TESTING_DIR = '/tmp/cats-v-dogs/testing'\n",
        "TRAINING_CATS_DIR = \"/tmp/cats-v-dogs/training/cats/\"\n",
        "TESTING_CATS_DIR = \"/tmp/cats-v-dogs/testing/cats/\"\n",
        "TRAINING_DOGS_DIR = \"/tmp/cats-v-dogs/training/dogs/\"\n",
        "TESTING_DOGS_DIR = \"/tmp/cats-v-dogs/testing/dogs/\"\n",
        "\n",
        "directories = [MAIN_DIR, TRAINING_DIR, TESTING_DIR, TRAINING_CATS_DIR, TESTING_CATS_DIR, TRAINING_DOGS_DIR, TESTING_DOGS_DIR]\n",
        "try:\n",
        "    for d in directories:\n",
        "        os.mkdir(d)\n",
        "        print(d, ' created')\n",
        "except OSError:\n",
        "    print(d, ' failed or already created')\n",
        "    pass"
      ],
      "execution_count": 4,
      "outputs": [
        {
          "output_type": "stream",
          "text": [
            "/tmp/cats-v-dogs  created\n",
            "/tmp/cats-v-dogs/training  created\n",
            "/tmp/cats-v-dogs/testing  created\n",
            "/tmp/cats-v-dogs/training/cats/  created\n",
            "/tmp/cats-v-dogs/testing/cats/  created\n",
            "/tmp/cats-v-dogs/training/dogs/  created\n",
            "/tmp/cats-v-dogs/testing/dogs/  created\n"
          ],
          "name": "stdout"
        }
      ]
    },
    {
      "cell_type": "code",
      "metadata": {
        "colab_type": "code",
        "id": "zvSODo0f9LaU",
        "colab": {
          "base_uri": "https://localhost:8080/",
          "height": 50
        },
        "outputId": "0d1293b4-050b-4fdc-da76-3d9763e6df6d"
      },
      "source": [
        "# Write a python function called split_data which takes\n",
        "# a SOURCE directory containing the files\n",
        "# a TRAINING directory that a portion of the files will be copied to\n",
        "# a TESTING directory that a portion of the files will be copie to\n",
        "# a SPLIT SIZE to determine the portion\n",
        "# The files should also be randomized, so that the training set is a random\n",
        "# X% of the files, and the test set is the remaining files\n",
        "# SO, for example, if SOURCE is PetImages/Cat, and SPLIT SIZE is .9\n",
        "# Then 90% of the images in PetImages/Cat will be copied to the TRAINING dir\n",
        "# and 10% of the images will be copied to the TESTING dir\n",
        "# Also -- All images should be checked, and if they have a zero file length,\n",
        "# they will not be copied over\n",
        "#\n",
        "# os.listdir(DIRECTORY) gives you a listing of the contents of that directory\n",
        "# os.path.getsize(PATH) gives you the size of the file\n",
        "# copyfile(source, destination) copies a file from source to destination\n",
        "# random.sample(list, len(list)) shuffles a list\n",
        "def split_data(SOURCE, TRAINING, TESTING, SPLIT_SIZE):\n",
        "    \n",
        "    files = os.listdir(SOURCE)\n",
        "    valid_files = []\n",
        "    \n",
        "    for f in files:\n",
        "        if os.path.getsize(SOURCE + f) > 0:\n",
        "            valid_files.append(f)\n",
        "        else:\n",
        "            print(f, ' has zero file size so has been rejected')\n",
        "            \n",
        "    n_files = len(valid_files)\n",
        "    split_point = int(SPLIT_SIZE * n_files)\n",
        "    training_files = valid_files[:split_point]\n",
        "    testing_files = valid_files[split_point:]\n",
        "    \n",
        "    for f in training_files:\n",
        "        copyfile(SOURCE + f, TRAINING + f)\n",
        "        \n",
        "    for f in testing_files:\n",
        "        copyfile(SOURCE + f, TESTING + f)\n",
        "\n",
        "\n",
        "CAT_SOURCE_DIR = \"/tmp/PetImages/Cat/\"\n",
        "TRAINING_CATS_DIR = \"/tmp/cats-v-dogs/training/cats/\"\n",
        "TESTING_CATS_DIR = \"/tmp/cats-v-dogs/testing/cats/\"\n",
        "DOG_SOURCE_DIR = \"/tmp/PetImages/Dog/\"\n",
        "TRAINING_DOGS_DIR = \"/tmp/cats-v-dogs/training/dogs/\"\n",
        "TESTING_DOGS_DIR = \"/tmp/cats-v-dogs/testing/dogs/\"\n",
        "\n",
        "split_size = .9\n",
        "split_data(CAT_SOURCE_DIR, TRAINING_CATS_DIR, TESTING_CATS_DIR, split_size)\n",
        "split_data(DOG_SOURCE_DIR, TRAINING_DOGS_DIR, TESTING_DOGS_DIR, split_size)"
      ],
      "execution_count": 5,
      "outputs": [
        {
          "output_type": "stream",
          "text": [
            "666.jpg  has zero file size so has been rejected\n",
            "11702.jpg  has zero file size so has been rejected\n"
          ],
          "name": "stdout"
        }
      ]
    },
    {
      "cell_type": "code",
      "metadata": {
        "colab_type": "code",
        "id": "luthalB76ufC",
        "colab": {
          "base_uri": "https://localhost:8080/",
          "height": 84
        },
        "outputId": "88a8b394-474e-42e1-e9b1-01cc2aa435bf"
      },
      "source": [
        "print(len(os.listdir('/tmp/cats-v-dogs/training/cats/')))\n",
        "print(len(os.listdir('/tmp/cats-v-dogs/training/dogs/')))\n",
        "print(len(os.listdir('/tmp/cats-v-dogs/testing/cats/')))\n",
        "print(len(os.listdir('/tmp/cats-v-dogs/testing/dogs/')))"
      ],
      "execution_count": 6,
      "outputs": [
        {
          "output_type": "stream",
          "text": [
            "11250\n",
            "11250\n",
            "1250\n",
            "1250\n"
          ],
          "name": "stdout"
        }
      ]
    },
    {
      "cell_type": "code",
      "metadata": {
        "colab_type": "code",
        "id": "-BQrav4anTmj",
        "colab": {
          "base_uri": "https://localhost:8080/",
          "height": 458
        },
        "outputId": "f161a7d6-e38e-4ea8-fd0e-36cc587dc004"
      },
      "source": [
        "model = tf.keras.models.Sequential([\n",
        "    tf.keras.layers.Conv2D(32, (3,3), activation='relu', padding = 'same', input_shape=(150, 150, 3)),\n",
        "    tf.keras.layers.MaxPooling2D(2, 2),\n",
        "    tf.keras.layers.Conv2D(64, (3,3), activation='relu'),\n",
        "    tf.keras.layers.MaxPooling2D(2,2),\n",
        "    tf.keras.layers.Conv2D(128, (3,3), activation='relu'),\n",
        "    tf.keras.layers.MaxPooling2D(2,2),\n",
        "\n",
        "    tf.keras.layers.Flatten(),\n",
        "    # tf.keras.layers.Dropout(0.5),\n",
        "    tf.keras.layers.Dense(128, activation='relu'),\n",
        "    tf.keras.layers.Dense(1, activation='sigmoid')\n",
        "])\n",
        "model.summary()\n",
        "# model.compile(optimizer=RMSprop(lr=0.001), loss='binary_crossentropy', metrics=['acc'])\n",
        "model.compile(optimizer='adam', loss='binary_crossentropy', metrics=['acc'])\n"
      ],
      "execution_count": 41,
      "outputs": [
        {
          "output_type": "stream",
          "text": [
            "Model: \"sequential_13\"\n",
            "_________________________________________________________________\n",
            "Layer (type)                 Output Shape              Param #   \n",
            "=================================================================\n",
            "conv2d_38 (Conv2D)           (None, 150, 150, 32)      896       \n",
            "_________________________________________________________________\n",
            "max_pooling2d_38 (MaxPooling (None, 75, 75, 32)        0         \n",
            "_________________________________________________________________\n",
            "conv2d_39 (Conv2D)           (None, 73, 73, 64)        18496     \n",
            "_________________________________________________________________\n",
            "max_pooling2d_39 (MaxPooling (None, 36, 36, 64)        0         \n",
            "_________________________________________________________________\n",
            "conv2d_40 (Conv2D)           (None, 34, 34, 128)       73856     \n",
            "_________________________________________________________________\n",
            "max_pooling2d_40 (MaxPooling (None, 17, 17, 128)       0         \n",
            "_________________________________________________________________\n",
            "flatten_15 (Flatten)         (None, 36992)             0         \n",
            "_________________________________________________________________\n",
            "dense_30 (Dense)             (None, 128)               4735104   \n",
            "_________________________________________________________________\n",
            "dense_31 (Dense)             (None, 1)                 129       \n",
            "=================================================================\n",
            "Total params: 4,828,481\n",
            "Trainable params: 4,828,481\n",
            "Non-trainable params: 0\n",
            "_________________________________________________________________\n"
          ],
          "name": "stdout"
        }
      ]
    },
    {
      "cell_type": "code",
      "metadata": {
        "colab_type": "code",
        "id": "mlNjoJ5D61N6",
        "colab": {
          "base_uri": "https://localhost:8080/",
          "height": 50
        },
        "outputId": "8af60ae6-8a75-44f4-addd-ea41738bfdb4"
      },
      "source": [
        "TRAINING_DIR = '/tmp/cats-v-dogs/training'\n",
        "train_datagen = ImageDataGenerator(rescale = 1./255,\n",
        "                                   shear_range = 0.2, \n",
        "                                   zoom_range = 0.2, \n",
        "                                   width_shift_range=0.2, \n",
        "                                   height_shift_range=0.2, \n",
        "                                   horizontal_flip = True)\n",
        "\n",
        "train_generator = train_datagen.flow_from_directory(TRAINING_DIR,\n",
        "                                                   target_size=(150, 150),\n",
        "                                                   class_mode='binary',\n",
        "                                                   batch_size = 64)\n",
        "\n",
        "VALIDATION_DIR = '/tmp/cats-v-dogs/testing'\n",
        "validation_datagen = ImageDataGenerator(rescale = 1./255)\n",
        "\n",
        "validation_generator = validation_datagen.flow_from_directory(TESTING_DIR,\n",
        "                                                   target_size=(150, 150),\n",
        "                                                   class_mode='binary',\n",
        "                                                   batch_size = 64)\n",
        "\n"
      ],
      "execution_count": 42,
      "outputs": [
        {
          "output_type": "stream",
          "text": [
            "Found 22498 images belonging to 2 classes.\n",
            "Found 2500 images belonging to 2 classes.\n"
          ],
          "name": "stdout"
        }
      ]
    },
    {
      "cell_type": "code",
      "metadata": {
        "colab_type": "code",
        "id": "KyS4n53w7DxC",
        "colab": {
          "base_uri": "https://localhost:8080/",
          "height": 818
        },
        "outputId": "3d3e6819-c242-42ee-a4a0-ea231a87eae2"
      },
      "source": [
        "history = model.fit(train_generator,\n",
        "                              epochs=15,\n",
        "                              verbose=1,\n",
        "                              validation_data=validation_generator)\n"
      ],
      "execution_count": 43,
      "outputs": [
        {
          "output_type": "stream",
          "text": [
            "Epoch 1/15\n",
            "240/352 [===================>..........] - ETA: 48s - loss: 0.6807 - acc: 0.5792"
          ],
          "name": "stdout"
        },
        {
          "output_type": "stream",
          "text": [
            "/usr/local/lib/python3.6/dist-packages/PIL/TiffImagePlugin.py:770: UserWarning: Possibly corrupt EXIF data.  Expecting to read 32 bytes but only got 0. Skipping tag 270\n",
            "  \" Skipping tag %s\" % (size, len(data), tag)\n",
            "/usr/local/lib/python3.6/dist-packages/PIL/TiffImagePlugin.py:770: UserWarning: Possibly corrupt EXIF data.  Expecting to read 5 bytes but only got 0. Skipping tag 271\n",
            "  \" Skipping tag %s\" % (size, len(data), tag)\n",
            "/usr/local/lib/python3.6/dist-packages/PIL/TiffImagePlugin.py:770: UserWarning: Possibly corrupt EXIF data.  Expecting to read 8 bytes but only got 0. Skipping tag 272\n",
            "  \" Skipping tag %s\" % (size, len(data), tag)\n",
            "/usr/local/lib/python3.6/dist-packages/PIL/TiffImagePlugin.py:770: UserWarning: Possibly corrupt EXIF data.  Expecting to read 8 bytes but only got 0. Skipping tag 282\n",
            "  \" Skipping tag %s\" % (size, len(data), tag)\n",
            "/usr/local/lib/python3.6/dist-packages/PIL/TiffImagePlugin.py:770: UserWarning: Possibly corrupt EXIF data.  Expecting to read 8 bytes but only got 0. Skipping tag 283\n",
            "  \" Skipping tag %s\" % (size, len(data), tag)\n",
            "/usr/local/lib/python3.6/dist-packages/PIL/TiffImagePlugin.py:770: UserWarning: Possibly corrupt EXIF data.  Expecting to read 20 bytes but only got 0. Skipping tag 306\n",
            "  \" Skipping tag %s\" % (size, len(data), tag)\n",
            "/usr/local/lib/python3.6/dist-packages/PIL/TiffImagePlugin.py:770: UserWarning: Possibly corrupt EXIF data.  Expecting to read 48 bytes but only got 0. Skipping tag 532\n",
            "  \" Skipping tag %s\" % (size, len(data), tag)\n",
            "/usr/local/lib/python3.6/dist-packages/PIL/TiffImagePlugin.py:788: UserWarning: Corrupt EXIF data.  Expecting to read 2 bytes but only got 0. \n",
            "  warnings.warn(str(msg))\n"
          ],
          "name": "stderr"
        },
        {
          "output_type": "stream",
          "text": [
            "352/352 [==============================] - 160s 456ms/step - loss: 0.6643 - acc: 0.6031 - val_loss: 0.5665 - val_acc: 0.7016\n",
            "Epoch 2/15\n",
            "352/352 [==============================] - 161s 458ms/step - loss: 0.5815 - acc: 0.6923 - val_loss: 0.4953 - val_acc: 0.7576\n",
            "Epoch 3/15\n",
            "352/352 [==============================] - 160s 456ms/step - loss: 0.5344 - acc: 0.7294 - val_loss: 0.4680 - val_acc: 0.7892\n",
            "Epoch 4/15\n",
            "352/352 [==============================] - 161s 457ms/step - loss: 0.4943 - acc: 0.7587 - val_loss: 0.4189 - val_acc: 0.8160\n",
            "Epoch 5/15\n",
            "352/352 [==============================] - 160s 456ms/step - loss: 0.4749 - acc: 0.7737 - val_loss: 0.3913 - val_acc: 0.8292\n",
            "Epoch 6/15\n",
            "352/352 [==============================] - 161s 459ms/step - loss: 0.4490 - acc: 0.7919 - val_loss: 0.4352 - val_acc: 0.8076\n",
            "Epoch 7/15\n",
            "352/352 [==============================] - 161s 457ms/step - loss: 0.4274 - acc: 0.8036 - val_loss: 0.3531 - val_acc: 0.8480\n",
            "Epoch 8/15\n",
            "352/352 [==============================] - 161s 458ms/step - loss: 0.4161 - acc: 0.8103 - val_loss: 0.3896 - val_acc: 0.8276\n",
            "Epoch 9/15\n",
            "352/352 [==============================] - 163s 463ms/step - loss: 0.3937 - acc: 0.8209 - val_loss: 0.4098 - val_acc: 0.8256\n",
            "Epoch 10/15\n",
            "352/352 [==============================] - 162s 459ms/step - loss: 0.3736 - acc: 0.8324 - val_loss: 0.3237 - val_acc: 0.8620\n",
            "Epoch 11/15\n",
            "352/352 [==============================] - 164s 467ms/step - loss: 0.3523 - acc: 0.8462 - val_loss: 0.3229 - val_acc: 0.8624\n",
            "Epoch 12/15\n",
            "352/352 [==============================] - 161s 458ms/step - loss: 0.3351 - acc: 0.8531 - val_loss: 0.2864 - val_acc: 0.8824\n",
            "Epoch 13/15\n",
            "352/352 [==============================] - 160s 456ms/step - loss: 0.3244 - acc: 0.8596 - val_loss: 0.2716 - val_acc: 0.8888\n",
            "Epoch 14/15\n",
            "352/352 [==============================] - 163s 462ms/step - loss: 0.3101 - acc: 0.8660 - val_loss: 0.2609 - val_acc: 0.8928\n",
            "Epoch 15/15\n",
            "352/352 [==============================] - 161s 457ms/step - loss: 0.2959 - acc: 0.8732 - val_loss: 0.2896 - val_acc: 0.8776\n"
          ],
          "name": "stdout"
        }
      ]
    },
    {
      "cell_type": "code",
      "metadata": {
        "colab_type": "code",
        "id": "MWZrJN4-65RC",
        "colab": {
          "base_uri": "https://localhost:8080/",
          "height": 561
        },
        "outputId": "02546739-c7e7-48e3-b848-0bde194de5a8"
      },
      "source": [
        "# PLOT LOSS AND ACCURACY\n",
        "%matplotlib inline\n",
        "\n",
        "import matplotlib.image  as mpimg\n",
        "import matplotlib.pyplot as plt\n",
        "\n",
        "#-----------------------------------------------------------\n",
        "# Retrieve a list of list results on training and test data\n",
        "# sets for each training epoch\n",
        "#-----------------------------------------------------------\n",
        "acc=history.history['acc']\n",
        "val_acc=history.history['val_acc']\n",
        "loss=history.history['loss']\n",
        "val_loss=history.history['val_loss']\n",
        "\n",
        "epochs=range(len(acc)) # Get number of epochs\n",
        "\n",
        "#------------------------------------------------\n",
        "# Plot training and validation accuracy per epoch\n",
        "#------------------------------------------------\n",
        "plt.plot(epochs, acc, 'r', \"Training Accuracy\")\n",
        "plt.plot(epochs, val_acc, 'b', \"Validation Accuracy\")\n",
        "plt.title('Training and validation accuracy')\n",
        "plt.figure()\n",
        "\n",
        "#------------------------------------------------\n",
        "# Plot training and validation loss per epoch\n",
        "#------------------------------------------------\n",
        "plt.plot(epochs, loss, 'r', \"Training Loss\")\n",
        "plt.plot(epochs, val_loss, 'b', \"Validation Loss\")\n",
        "\n",
        "\n",
        "plt.title('Training and validation loss')\n",
        "\n",
        "# Desired output. Charts with training and validation metrics. No crash :)"
      ],
      "execution_count": 44,
      "outputs": [
        {
          "output_type": "execute_result",
          "data": {
            "text/plain": [
              "Text(0.5, 1.0, 'Training and validation loss')"
            ]
          },
          "metadata": {
            "tags": []
          },
          "execution_count": 44
        },
        {
          "output_type": "display_data",
          "data": {
            "image/png": "[encoded data removed]",
            "text/plain": [
              "<Figure size 432x288 with 1 Axes>"
            ]
          },
          "metadata": {
            "tags": [],
            "needs_background": "light"
          }
        },
        {
          "output_type": "display_data",
          "data": {
            "image/png": "[encoded data removed]",
            "text/plain": [
              "<Figure size 432x288 with 1 Axes>"
            ]
          },
          "metadata": {
            "tags": [],
            "needs_background": "light"
          }
        }
      ]
    },
    {
      "cell_type": "code",
      "metadata": {
        "colab_type": "code",
        "id": "LqL6FYUrtXpf",
        "colab": {}
      },
      "source": [
        "# Here's a codeblock just for fun. You should be able to upload an image here \n",
        "# and have it classified without crashing\n",
        "\n",
        "import numpy as np\n",
        "from google.colab import files\n",
        "from keras.preprocessing import image\n",
        "\n",
        "uploaded = files.upload()\n",
        "\n",
        "for fn in uploaded.keys():\n",
        " \n",
        "  # predicting images\n",
        "  path = '/content/' + fn\n",
        "  img = image.load_img(path, target_size=(150, 150))\n",
        "  x = image.img_to_array(img)\n",
        "  x = np.expand_dims(x, axis=0)\n",
        "\n",
        "  images = np.vstack([x])\n",
        "  classes = model.predict(images, batch_size=10)\n",
        "  print(classes[0])\n",
        "  if classes[0]>0.5:\n",
        "    print(fn + \" is a dog\")\n",
        "  else:\n",
        "    print(fn + \" is a cat\")"
      ],
      "execution_count": null,
      "outputs": []
    },
    {
      "cell_type": "markdown",
      "metadata": {
        "id": "PRwyHqh-b09j",
        "colab_type": "text"
      },
      "source": [
        "## Testing Transfer Learning"
      ]
    },
    {
      "cell_type": "code",
      "metadata": {
        "id": "jZj_PnIoQWaz",
        "colab_type": "code",
        "colab": {
          "base_uri": "https://localhost:8080/",
          "height": 818
        },
        "outputId": "81346175-cffa-4bf5-aa98-168607f7b03b"
      },
      "source": [
        "model = tf.keras.applications.VGG16(include_top=False, input_shape=(150, 150, 3))\n",
        "# mark loaded layers as not trainable\n",
        "for layer in model.layers:\n",
        "  layer.trainable = False\n",
        "# add new classifier layers\n",
        "flat1 = tf.keras.layers.Flatten()(model.layers[-1].output)\n",
        "class1 = tf.keras.layers.Dense(128, activation='relu', kernel_initializer='he_uniform')(flat1)\n",
        "output = tf.keras.layers.Dense(1, activation='sigmoid')(class1)\n",
        "# define new model\n",
        "model = tf.keras.Model(inputs=model.inputs, outputs=output)\n",
        "model.compile(optimizer='adam', loss='binary_crossentropy', metrics=['acc'])\n",
        "history = model.fit(train_generator,\n",
        "                              epochs=15,\n",
        "                              verbose=1,\n",
        "                              validation_data=validation_generator)"
      ],
      "execution_count": 40,
      "outputs": [
        {
          "output_type": "stream",
          "text": [
            "Epoch 1/15\n",
            " 83/352 [======>.......................] - ETA: 2:02 - loss: 0.4820 - acc: 0.7771"
          ],
          "name": "stdout"
        },
        {
          "output_type": "stream",
          "text": [
            "/usr/local/lib/python3.6/dist-packages/PIL/TiffImagePlugin.py:770: UserWarning: Possibly corrupt EXIF data.  Expecting to read 32 bytes but only got 0. Skipping tag 270\n",
            "  \" Skipping tag %s\" % (size, len(data), tag)\n",
            "/usr/local/lib/python3.6/dist-packages/PIL/TiffImagePlugin.py:770: UserWarning: Possibly corrupt EXIF data.  Expecting to read 5 bytes but only got 0. Skipping tag 271\n",
            "  \" Skipping tag %s\" % (size, len(data), tag)\n",
            "/usr/local/lib/python3.6/dist-packages/PIL/TiffImagePlugin.py:770: UserWarning: Possibly corrupt EXIF data.  Expecting to read 8 bytes but only got 0. Skipping tag 272\n",
            "  \" Skipping tag %s\" % (size, len(data), tag)\n",
            "/usr/local/lib/python3.6/dist-packages/PIL/TiffImagePlugin.py:770: UserWarning: Possibly corrupt EXIF data.  Expecting to read 8 bytes but only got 0. Skipping tag 282\n",
            "  \" Skipping tag %s\" % (size, len(data), tag)\n",
            "/usr/local/lib/python3.6/dist-packages/PIL/TiffImagePlugin.py:770: UserWarning: Possibly corrupt EXIF data.  Expecting to read 8 bytes but only got 0. Skipping tag 283\n",
            "  \" Skipping tag %s\" % (size, len(data), tag)\n",
            "/usr/local/lib/python3.6/dist-packages/PIL/TiffImagePlugin.py:770: UserWarning: Possibly corrupt EXIF data.  Expecting to read 20 bytes but only got 0. Skipping tag 306\n",
            "  \" Skipping tag %s\" % (size, len(data), tag)\n",
            "/usr/local/lib/python3.6/dist-packages/PIL/TiffImagePlugin.py:770: UserWarning: Possibly corrupt EXIF data.  Expecting to read 48 bytes but only got 0. Skipping tag 532\n",
            "  \" Skipping tag %s\" % (size, len(data), tag)\n",
            "/usr/local/lib/python3.6/dist-packages/PIL/TiffImagePlugin.py:788: UserWarning: Corrupt EXIF data.  Expecting to read 2 bytes but only got 0. \n",
            "  warnings.warn(str(msg))\n"
          ],
          "name": "stderr"
        },
        {
          "output_type": "stream",
          "text": [
            "352/352 [==============================] - 173s 492ms/step - loss: 0.3473 - acc: 0.8451 - val_loss: 0.2345 - val_acc: 0.9016\n",
            "Epoch 2/15\n",
            "352/352 [==============================] - 173s 490ms/step - loss: 0.2816 - acc: 0.8751 - val_loss: 0.2000 - val_acc: 0.9232\n",
            "Epoch 3/15\n",
            "352/352 [==============================] - 172s 488ms/step - loss: 0.2701 - acc: 0.8854 - val_loss: 0.2044 - val_acc: 0.9188\n",
            "Epoch 4/15\n",
            "352/352 [==============================] - 171s 485ms/step - loss: 0.2605 - acc: 0.8855 - val_loss: 0.2133 - val_acc: 0.9092\n",
            "Epoch 5/15\n",
            "352/352 [==============================] - 172s 488ms/step - loss: 0.2552 - acc: 0.8899 - val_loss: 0.1791 - val_acc: 0.9228\n",
            "Epoch 6/15\n",
            "352/352 [==============================] - 171s 486ms/step - loss: 0.2430 - acc: 0.8953 - val_loss: 0.1802 - val_acc: 0.9200\n",
            "Epoch 7/15\n",
            "352/352 [==============================] - 171s 487ms/step - loss: 0.2372 - acc: 0.8980 - val_loss: 0.1806 - val_acc: 0.9236\n",
            "Epoch 8/15\n",
            "352/352 [==============================] - 171s 486ms/step - loss: 0.2356 - acc: 0.8971 - val_loss: 0.1810 - val_acc: 0.9200\n",
            "Epoch 9/15\n",
            "352/352 [==============================] - 171s 485ms/step - loss: 0.2282 - acc: 0.9003 - val_loss: 0.1728 - val_acc: 0.9252\n",
            "Epoch 10/15\n",
            "352/352 [==============================] - 171s 485ms/step - loss: 0.2256 - acc: 0.9025 - val_loss: 0.1720 - val_acc: 0.9280\n",
            "Epoch 11/15\n",
            "352/352 [==============================] - 171s 485ms/step - loss: 0.2236 - acc: 0.9041 - val_loss: 0.1806 - val_acc: 0.9180\n",
            "Epoch 12/15\n",
            "352/352 [==============================] - 171s 487ms/step - loss: 0.2221 - acc: 0.9063 - val_loss: 0.1725 - val_acc: 0.9212\n",
            "Epoch 13/15\n",
            "352/352 [==============================] - 170s 483ms/step - loss: 0.2159 - acc: 0.9078 - val_loss: 0.1746 - val_acc: 0.9264\n",
            "Epoch 14/15\n",
            "352/352 [==============================] - 171s 486ms/step - loss: 0.2164 - acc: 0.9070 - val_loss: 0.2003 - val_acc: 0.9160\n",
            "Epoch 15/15\n",
            "352/352 [==============================] - 171s 485ms/step - loss: 0.2099 - acc: 0.9111 - val_loss: 0.2101 - val_acc: 0.9112\n"
          ],
          "name": "stdout"
        }
      ]
    }
  ]
}