{
 "cells": [
  {
   "cell_type": "code",
   "execution_count": 5,
   "id": "aa97f690-82b0-496f-903d-58bec0d76056",
   "metadata": {},
   "outputs": [
    {
     "name": "stdout",
     "output_type": "stream",
     "text": [
      "<class 'pandas.core.frame.DataFrame'>\n",
      "RangeIndex: 16100 entries, 0 to 16099\n",
      "Data columns (total 10 columns):\n",
      " #   Column              Non-Null Count  Dtype  \n",
      "---  ------              --------------  -----  \n",
      " 0   id                  16100 non-null  object \n",
      " 1   vendor_id           16100 non-null  int64  \n",
      " 2   pickup_datetime     16100 non-null  object \n",
      " 3   dropoff_datetime    16100 non-null  object \n",
      " 4   passenger_count     16100 non-null  int64  \n",
      " 5   pickup_longitude    16100 non-null  float64\n",
      " 6   pickup_latitude     16100 non-null  float64\n",
      " 7   dropoff_longitude   16100 non-null  float64\n",
      " 8   dropoff_latitude    16100 non-null  float64\n",
      " 9   store_and_fwd_flag  16100 non-null  object \n",
      "dtypes: float64(4), int64(2), object(4)\n",
      "memory usage: 1.2+ MB\n"
     ]
    },
    {
     "data": {
      "text/html": [
       "<div>\n",
       "<style scoped>\n",
       "    .dataframe tbody tr th:only-of-type {\n",
       "        vertical-align: middle;\n",
       "    }\n",
       "\n",
       "    .dataframe tbody tr th {\n",
       "        vertical-align: top;\n",
       "    }\n",
       "\n",
       "    .dataframe thead th {\n",
       "        text-align: right;\n",
       "    }\n",
       "</style>\n",
       "<table border=\"1\" class=\"dataframe\">\n",
       "  <thead>\n",
       "    <tr style=\"text-align: right;\">\n",
       "      <th></th>\n",
       "      <th>id</th>\n",
       "      <th>vendor_id</th>\n",
       "      <th>pickup_datetime</th>\n",
       "      <th>dropoff_datetime</th>\n",
       "      <th>passenger_count</th>\n",
       "      <th>pickup_longitude</th>\n",
       "      <th>pickup_latitude</th>\n",
       "      <th>dropoff_longitude</th>\n",
       "      <th>dropoff_latitude</th>\n",
       "      <th>store_and_fwd_flag</th>\n",
       "    </tr>\n",
       "  </thead>\n",
       "  <tbody>\n",
       "    <tr>\n",
       "      <th>0</th>\n",
       "      <td>id1019488</td>\n",
       "      <td>2</td>\n",
       "      <td>1/1/2016 0:08</td>\n",
       "      <td>1/1/2016 0:22</td>\n",
       "      <td>1</td>\n",
       "      <td>-73.976120</td>\n",
       "      <td>40.749081</td>\n",
       "      <td>-74.007446</td>\n",
       "      <td>40.726452</td>\n",
       "      <td>N</td>\n",
       "    </tr>\n",
       "    <tr>\n",
       "      <th>1</th>\n",
       "      <td>id2336715</td>\n",
       "      <td>2</td>\n",
       "      <td>1/1/2016 0:09</td>\n",
       "      <td>1/1/2016 0:19</td>\n",
       "      <td>2</td>\n",
       "      <td>-73.984360</td>\n",
       "      <td>40.748985</td>\n",
       "      <td>-73.996284</td>\n",
       "      <td>40.716057</td>\n",
       "      <td>N</td>\n",
       "    </tr>\n",
       "    <tr>\n",
       "      <th>2</th>\n",
       "      <td>id3150178</td>\n",
       "      <td>2</td>\n",
       "      <td>1/1/2016 0:18</td>\n",
       "      <td>1/1/2016 0:34</td>\n",
       "      <td>1</td>\n",
       "      <td>-73.974968</td>\n",
       "      <td>40.777721</td>\n",
       "      <td>-73.973885</td>\n",
       "      <td>40.757427</td>\n",
       "      <td>N</td>\n",
       "    </tr>\n",
       "    <tr>\n",
       "      <th>3</th>\n",
       "      <td>id3393823</td>\n",
       "      <td>2</td>\n",
       "      <td>1/1/2016 0:30</td>\n",
       "      <td>1/1/2016 0:51</td>\n",
       "      <td>1</td>\n",
       "      <td>-73.990868</td>\n",
       "      <td>40.745167</td>\n",
       "      <td>-73.977638</td>\n",
       "      <td>40.784027</td>\n",
       "      <td>N</td>\n",
       "    </tr>\n",
       "    <tr>\n",
       "      <th>4</th>\n",
       "      <td>id1349085</td>\n",
       "      <td>2</td>\n",
       "      <td>1/1/2016 0:33</td>\n",
       "      <td>1/1/2016 0:50</td>\n",
       "      <td>1</td>\n",
       "      <td>-74.007980</td>\n",
       "      <td>40.740208</td>\n",
       "      <td>-73.988922</td>\n",
       "      <td>40.765083</td>\n",
       "      <td>N</td>\n",
       "    </tr>\n",
       "  </tbody>\n",
       "</table>\n",
       "</div>"
      ],
      "text/plain": [
       "          id  vendor_id pickup_datetime dropoff_datetime  passenger_count  \\\n",
       "0  id1019488          2   1/1/2016 0:08    1/1/2016 0:22                1   \n",
       "1  id2336715          2   1/1/2016 0:09    1/1/2016 0:19                2   \n",
       "2  id3150178          2   1/1/2016 0:18    1/1/2016 0:34                1   \n",
       "3  id3393823          2   1/1/2016 0:30    1/1/2016 0:51                1   \n",
       "4  id1349085          2   1/1/2016 0:33    1/1/2016 0:50                1   \n",
       "\n",
       "   pickup_longitude  pickup_latitude  dropoff_longitude  dropoff_latitude  \\\n",
       "0        -73.976120        40.749081         -74.007446         40.726452   \n",
       "1        -73.984360        40.748985         -73.996284         40.716057   \n",
       "2        -73.974968        40.777721         -73.973885         40.757427   \n",
       "3        -73.990868        40.745167         -73.977638         40.784027   \n",
       "4        -74.007980        40.740208         -73.988922         40.765083   \n",
       "\n",
       "  store_and_fwd_flag  \n",
       "0                  N  \n",
       "1                  N  \n",
       "2                  N  \n",
       "3                  N  \n",
       "4                  N  "
      ]
     },
     "execution_count": 5,
     "metadata": {},
     "output_type": "execute_result"
    }
   ],
   "source": [
    "import pandas as pd\n",
    "\n",
    "# Load the data\n",
    "file_path = 'ny_taxi_data.csv'\n",
    "data = pd.read_csv(file_path)\n",
    "\n",
    "# Inspect the data\n",
    "data.info()\n",
    "data.head()\n"
   ]
  },
  {
   "cell_type": "code",
   "execution_count": 7,
   "id": "19cdeae4-649d-4b30-8b02-9d9e8ca7e9ba",
   "metadata": {},
   "outputs": [
    {
     "name": "stdout",
     "output_type": "stream",
     "text": [
      "   vendor_id  passenger_count  pickup_longitude  pickup_latitude  \\\n",
      "0          2                1        -73.976120        40.749081   \n",
      "1          2                2        -73.984360        40.748985   \n",
      "2          2                1        -73.974968        40.777721   \n",
      "3          2                1        -73.990868        40.745167   \n",
      "4          2                1        -74.007980        40.740208   \n",
      "\n",
      "   dropoff_longitude  dropoff_latitude  store_and_fwd_flag  trip_duration  \\\n",
      "0         -74.007446         40.726452                   0           14.0   \n",
      "1         -73.996284         40.716057                   0           10.0   \n",
      "2         -73.973885         40.757427                   0           16.0   \n",
      "3         -73.977638         40.784027                   0           21.0   \n",
      "4         -73.988922         40.765083                   0           17.0   \n",
      "\n",
      "   pickup_hour  pickup_day  \n",
      "0            0           4  \n",
      "1            0           4  \n",
      "2            0           4  \n",
      "3            0           4  \n",
      "4            0           4  \n"
     ]
    }
   ],
   "source": [
    "# Function to parse mixed datetime formats\n",
    "from dateutil import parser\n",
    "\n",
    "def parse_date(date_str):\n",
    "    return parser.parse(date_str)\n",
    "\n",
    "# Apply the function to datetime columns\n",
    "data['pickup_datetime'] = data['pickup_datetime'].apply(parse_date)\n",
    "data['dropoff_datetime'] = data['dropoff_datetime'].apply(parse_date)\n",
    "\n",
    "# Calculate trip duration in minutes\n",
    "data['trip_duration'] = (data['dropoff_datetime'] - data['pickup_datetime']).dt.total_seconds() / 60.0\n",
    "\n",
    "# Extract features from datetime\n",
    "data['pickup_hour'] = data['pickup_datetime'].dt.hour\n",
    "data['pickup_day'] = data['pickup_datetime'].dt.dayofweek\n",
    "\n",
    "# Encode the 'store_and_fwd_flag'\n",
    "data['store_and_fwd_flag'] = data['store_and_fwd_flag'].map({'N': 0, 'Y': 1})\n",
    "\n",
    "# Drop unnecessary columns\n",
    "data.drop(columns=['id', 'pickup_datetime', 'dropoff_datetime', 'store_and_fwd_flag'], inplace=True)\n",
    "\n",
    "# Inspect the data after preprocessing\n",
    "print(data.head())\n"
   ]
  },
  {
   "cell_type": "code",
   "execution_count": 8,
   "id": "fd732725-286e-4e82-899d-a3cac01b087a",
   "metadata": {},
   "outputs": [
    {
     "data": {
      "text/plain": [
       "1.343341065177159"
      ]
     },
     "execution_count": 8,
     "metadata": {},
     "output_type": "execute_result"
    }
   ],
   "source": [
    "from sklearn.model_selection import train_test_split\n",
    "from sklearn.ensemble import RandomForestRegressor\n",
    "from sklearn.metrics import mean_squared_error\n",
    "\n",
    "# Define features and target\n",
    "X = data.drop(columns=['passenger_count'])\n",
    "y = data['passenger_count']\n",
    "\n",
    "# Split the data into training and testing sets\n",
    "X_train, X_test, y_train, y_test = train_test_split(X, y, test_size=0.2, random_state=42)\n",
    "\n",
    "# Initialize and train the model\n",
    "model = RandomForestRegressor(n_estimators=100, random_state=42)\n",
    "model.fit(X_train, y_train)\n",
    "\n",
    "# Make predictions and evaluate the model\n",
    "y_pred = model.predict(X_test)\n",
    "mse = mean_squared_error(y_test, y_pred)\n",
    "rmse = mse ** 0.5\n",
    "\n",
    "rmse\n"
   ]
  },
  {
   "cell_type": "code",
   "execution_count": 9,
   "id": "33cad683-80ea-433b-b82a-478cd033ddee",
   "metadata": {},
   "outputs": [
    {
     "data": {
      "image/png": "[encoded data removed]",
      "text/plain": [
       "<Figure size 1000x600 with 1 Axes>"
      ]
     },
     "metadata": {},
     "output_type": "display_data"
    }
   ],
   "source": [
    "import matplotlib.pyplot as plt\n",
    "\n",
    "# Get feature importances\n",
    "importances = model.feature_importances_\n",
    "feature_names = X.columns\n",
    "\n",
    "# Create a DataFrame for better visualization\n",
    "feature_importance_df = pd.DataFrame({\n",
    "    'Feature': feature_names,\n",
    "    'Importance': importances\n",
    "}).sort_values(by='Importance', ascending=False)\n",
    "\n",
    "# Plot feature importances\n",
    "plt.figure(figsize=(10, 6))\n",
    "plt.barh(feature_importance_df['Feature'], feature_importance_df['Importance'])\n",
    "plt.xlabel('Feature Importance')\n",
    "plt.ylabel('Feature')\n",
    "plt.title('Feature Importance in Random Forest Regressor')\n",
    "plt.gca().invert_yaxis()\n",
    "plt.show()"
   ]
  },
  {
   "cell_type": "code",
   "execution_count": 11,
   "id": "ef375364-1c22-4755-aa08-1799f0bec841",
   "metadata": {},
   "outputs": [
    {
     "data": {
      "text/plain": [
       "array([1, 2], dtype=int64)"
      ]
     },
     "execution_count": 11,
     "metadata": {},
     "output_type": "execute_result"
    }
   ],
   "source": [
    "import numpy as np\n",
    "np.unique(data['vendor_id'].values)"
   ]
  },
  {
   "cell_type": "code",
   "execution_count": 14,
   "id": "93dba632-29fc-4bf4-bef2-816677b409a5",
   "metadata": {},
   "outputs": [
    {
     "data": {
      "text/plain": [
       "(array([0, 1], dtype=int64), array([16012,    88], dtype=int64))"
      ]
     },
     "execution_count": 14,
     "metadata": {},
     "output_type": "execute_result"
    }
   ],
   "source": [
    "np.unique(data['store_and_fwd_flag'].values, return_counts = True)"
   ]
  },
  {
   "cell_type": "code",
   "execution_count": null,
   "id": "899d0cb9-72aa-4205-9cc7-2e2c4ba1321b",
   "metadata": {},
   "outputs": [],
   "source": []
  }
 ],
 "metadata": {
  "kernelspec": {
   "display_name": "Python 3 (ipykernel)",
   "language": "python",
   "name": "python3"
  },
  "language_info": {
   "codemirror_mode": {
    "name": "ipython",
    "version": 3
   },
   "file_extension": ".py",
   "mimetype": "text/x-python",
   "name": "python",
   "nbconvert_exporter": "python",
   "pygments_lexer": "ipython3",
   "version": "3.11.4"
  }
 },
 "nbformat": 4,
 "nbformat_minor": 5
}
