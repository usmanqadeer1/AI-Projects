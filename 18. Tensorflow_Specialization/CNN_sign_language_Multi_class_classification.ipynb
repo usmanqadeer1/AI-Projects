{
  "nbformat": 4,
  "nbformat_minor": 0,
  "metadata": {
    "colab": {
      "name": "CNN - sign language - Multi class classification.ipynb",
      "provenance": [],
      "collapsed_sections": [],
      "toc_visible": true,
      "include_colab_link": true
    },
    "kernelspec": {
      "display_name": "Python 3",
      "name": "python3"
    },
    "accelerator": "GPU"
  },
  "cells": [
    {
      "cell_type": "markdown",
      "metadata": {
        "id": "view-in-github",
        "colab_type": "text"
      },
      "source": [
        "<a href=\"https://colab.research.google.com/github/usmanqadeer1/AI-MLProjects/blob/master/Tensorflow_Specialization/CNN_sign_language_Multi_class_classification.ipynb\" target=\"_parent\"><img src=\"https://colab.research.google.com/assets/colab-badge.svg\" alt=\"Open In Colab\"/></a>"
      ]
    },
    {
      "cell_type": "code",
      "metadata": {
        "colab_type": "code",
        "id": "wYtuKeK0dImp",
        "colab": {}
      },
      "source": [
        "import csv\n",
        "import numpy as np\n",
        "import tensorflow as tf\n",
        "from tensorflow.keras.preprocessing.image import ImageDataGenerator\n",
        "from google.colab import files"
      ],
      "execution_count": null,
      "outputs": []
    },
    {
      "cell_type": "markdown",
      "metadata": {
        "colab_type": "text",
        "id": "EmMyh9_mkDHF"
      },
      "source": [
        "The data for this exercise is available at: https://www.kaggle.com/datamunge/sign-language-mnist/home\n",
        "\n",
        " - Sign up, Go to Edit profile and click on \"Create New Api Key\"\n",
        " - kaggle.json file will be downloaded\n",
        " - upload it here\n"
      ]
    },
    {
      "cell_type": "code",
      "metadata": {
        "id": "D37TVW8wkwx4",
        "colab_type": "code",
        "colab": {
          "resources": {
            "http://localhost:8080/nbextensions/google.colab/files.js": {
              "data": "Ly8gQ29weXJpZ2h0IDIwMTcgR29vZ2xlIExMQwovLwovLyBMaWNlbnNlZCB1bmRlciB0aGUgQXBhY2hlIExpY2Vuc2UsIFZlcnNpb24gMi4wICh0aGUgIkxpY2Vuc2UiKTsKLy8geW91IG1heSBub3QgdXNlIHRoaXMgZmlsZSBleGNlcHQgaW4gY29tcGxpYW5jZSB3aXRoIHRoZSBMaWNlbnNlLgovLyBZb3UgbWF5IG9idGFpbiBhIGNvcHkgb2YgdGhlIExpY2Vuc2UgYXQKLy8KLy8gICAgICBodHRwOi8vd3d3LmFwYWNoZS5vcmcvbGljZW5zZXMvTElDRU5TRS0yLjAKLy8KLy8gVW5sZXNzIHJlcXVpcmVkIGJ5IGFwcGxpY2FibGUgbGF3IG9yIGFncmVlZCB0byBpbiB3cml0aW5nLCBzb2Z0d2FyZQovLyBkaXN0cmlidXRlZCB1bmRlciB0aGUgTGljZW5zZSBpcyBkaXN0cmlidXRlZCBvbiBhbiAiQVMgSVMiIEJBU0lTLAovLyBXSVRIT1VUIFdBUlJBTlRJRVMgT1IgQ09ORElUSU9OUyBPRiBBTlkgS0lORCwgZWl0aGVyIGV4cHJlc3Mgb3IgaW1wbGllZC4KLy8gU2VlIHRoZSBMaWNlbnNlIGZvciB0aGUgc3BlY2lmaWMgbGFuZ3VhZ2UgZ292ZXJuaW5nIHBlcm1pc3Npb25zIGFuZAovLyBsaW1pdGF0aW9ucyB1bmRlciB0aGUgTGljZW5zZS4KCi8qKgogKiBAZmlsZW92ZXJ2aWV3IEhlbHBlcnMgZm9yIGdvb2dsZS5jb2xhYiBQeXRob24gbW9kdWxlLgogKi8KKGZ1bmN0aW9uKHNjb3BlKSB7CmZ1bmN0aW9uIHNwYW4odGV4dCwgc3R5bGVBdHRyaWJ1dGVzID0ge30pIHsKICBjb25zdCBlbGVtZW50ID0gZG9jdW1lbnQuY3JlYXRlRWxlbWVudCgnc3BhbicpOwogIGVsZW1lbnQudGV4dENvbnRlbnQgPSB0ZXh0OwogIGZvciAoY29uc3Qga2V5IG9mIE9iamVjdC5rZXlzKHN0eWxlQXR0cmlidXRlcykpIHsKICAgIGVsZW1lbnQuc3R5bGVba2V5XSA9IHN0eWxlQXR0cmlidXRlc1trZXldOwogIH0KICByZXR1cm4gZWxlbWVudDsKfQoKLy8gTWF4IG51bWJlciBvZiBieXRlcyB3aGljaCB3aWxsIGJlIHVwbG9hZGVkIGF0IGEgdGltZS4KY29uc3QgTUFYX1BBWUxPQURfU0laRSA9IDEwMCAqIDEwMjQ7CgpmdW5jdGlvbiBfdXBsb2FkRmlsZXMoaW5wdXRJZCwgb3V0cHV0SWQpIHsKICBjb25zdCBzdGVwcyA9IHVwbG9hZEZpbGVzU3RlcChpbnB1dElkLCBvdXRwdXRJZCk7CiAgY29uc3Qgb3V0cHV0RWxlbWVudCA9IGRvY3VtZW50LmdldEVsZW1lbnRCeUlkKG91dHB1dElkKTsKICAvLyBDYWNoZSBzdGVwcyBvbiB0aGUgb3V0cHV0RWxlbWVudCB0byBtYWtlIGl0IGF2YWlsYWJsZSBmb3IgdGhlIG5leHQgY2FsbAogIC8vIHRvIHVwbG9hZEZpbGVzQ29udGludWUgZnJvbSBQeXRob24uCiAgb3V0cHV0RWxlbWVudC5zdGVwcyA9IHN0ZXBzOwoKICByZXR1cm4gX3VwbG9hZEZpbGVzQ29udGludWUob3V0cHV0SWQpOwp9CgovLyBUaGlzIGlzIHJvdWdobHkgYW4gYXN5bmMgZ2VuZXJhdG9yIChub3Qgc3VwcG9ydGVkIGluIHRoZSBicm93c2VyIHlldCksCi8vIHdoZXJlIHRoZXJlIGFyZSBtdWx0aXBsZSBhc3luY2hyb25vdXMgc3RlcHMgYW5kIHRoZSBQeXRob24gc2lkZSBpcyBnb2luZwovLyB0byBwb2xsIGZvciBjb21wbGV0aW9uIG9mIGVhY2ggc3RlcC4KLy8gVGhpcyB1c2VzIGEgUHJvbWlzZSB0byBibG9jayB0aGUgcHl0aG9uIHNpZGUgb24gY29tcGxldGlvbiBvZiBlYWNoIHN0ZXAsCi8vIHRoZW4gcGFzc2VzIHRoZSByZXN1bHQgb2YgdGhlIHByZXZpb3VzIHN0ZXAgYXMgdGhlIGlucHV0IHRvIHRoZSBuZXh0IHN0ZXAuCmZ1bmN0aW9uIF91cGxvYWRGaWxlc0NvbnRpbnVlKG91dHB1dElkKSB7CiAgY29uc3Qgb3V0cHV0RWxlbWVudCA9IGRvY3VtZW50LmdldEVsZW1lbnRCeUlkKG91dHB1dElkKTsKICBjb25zdCBzdGVwcyA9IG91dHB1dEVsZW1lbnQuc3RlcHM7CgogIGNvbnN0IG5leHQgPSBzdGVwcy5uZXh0KG91dHB1dEVsZW1lbnQubGFzdFByb21pc2VWYWx1ZSk7CiAgcmV0dXJuIFByb21pc2UucmVzb2x2ZShuZXh0LnZhbHVlLnByb21pc2UpLnRoZW4oKHZhbHVlKSA9PiB7CiAgICAvLyBDYWNoZSB0aGUgbGFzdCBwcm9taXNlIHZhbHVlIHRvIG1ha2UgaXQgYXZhaWxhYmxlIHRvIHRoZSBuZXh0CiAgICAvLyBzdGVwIG9mIHRoZSBnZW5lcmF0b3IuCiAgICBvdXRwdXRFbGVtZW50Lmxhc3RQcm9taXNlVmFsdWUgPSB2YWx1ZTsKICAgIHJldHVybiBuZXh0LnZhbHVlLnJlc3BvbnNlOwogIH0pOwp9CgovKioKICogR2VuZXJhdG9yIGZ1bmN0aW9uIHdoaWNoIGlzIGNhbGxlZCBiZXR3ZWVuIGVhY2ggYXN5bmMgc3RlcCBvZiB0aGUgdXBsb2FkCiAqIHByb2Nlc3MuCiAqIEBwYXJhbSB7c3RyaW5nfSBpbnB1dElkIEVsZW1lbnQgSUQgb2YgdGhlIGlucHV0IGZpbGUgcGlja2VyIGVsZW1lbnQuCiAqIEBwYXJhbSB7c3RyaW5nfSBvdXRwdXRJZCBFbGVtZW50IElEIG9mIHRoZSBvdXRwdXQgZGlzcGxheS4KICogQHJldHVybiB7IUl0ZXJhYmxlPCFPYmplY3Q+fSBJdGVyYWJsZSBvZiBuZXh0IHN0ZXBzLgogKi8KZnVuY3Rpb24qIHVwbG9hZEZpbGVzU3RlcChpbnB1dElkLCBvdXRwdXRJZCkgewogIGNvbnN0IGlucHV0RWxlbWVudCA9IGRvY3VtZW50LmdldEVsZW1lbnRCeUlkKGlucHV0SWQpOwogIGlucHV0RWxlbWVudC5kaXNhYmxlZCA9IGZhbHNlOwoKICBjb25zdCBvdXRwdXRFbGVtZW50ID0gZG9jdW1lbnQuZ2V0RWxlbWVudEJ5SWQob3V0cHV0SWQpOwogIG91dHB1dEVsZW1lbnQuaW5uZXJIVE1MID0gJyc7CgogIGNvbnN0IHBpY2tlZFByb21pc2UgPSBuZXcgUHJvbWlzZSgocmVzb2x2ZSkgPT4gewogICAgaW5wdXRFbGVtZW50LmFkZEV2ZW50TGlzdGVuZXIoJ2NoYW5nZScsIChlKSA9PiB7CiAgICAgIHJlc29sdmUoZS50YXJnZXQuZmlsZXMpOwogICAgfSk7CiAgfSk7CgogIGNvbnN0IGNhbmNlbCA9IGRvY3VtZW50LmNyZWF0ZUVsZW1lbnQoJ2J1dHRvbicpOwogIGlucHV0RWxlbWVudC5wYXJlbnRFbGVtZW50LmFwcGVuZENoaWxkKGNhbmNlbCk7CiAgY2FuY2VsLnRleHRDb250ZW50ID0gJ0NhbmNlbCB1cGxvYWQnOwogIGNvbnN0IGNhbmNlbFByb21pc2UgPSBuZXcgUHJvbWlzZSgocmVzb2x2ZSkgPT4gewogICAgY2FuY2VsLm9uY2xpY2sgPSAoKSA9PiB7CiAgICAgIHJlc29sdmUobnVsbCk7CiAgICB9OwogIH0pOwoKICAvLyBXYWl0IGZvciB0aGUgdXNlciB0byBwaWNrIHRoZSBmaWxlcy4KICBjb25zdCBmaWxlcyA9IHlpZWxkIHsKICAgIHByb21pc2U6IFByb21pc2UucmFjZShbcGlja2VkUHJvbWlzZSwgY2FuY2VsUHJvbWlzZV0pLAogICAgcmVzcG9uc2U6IHsKICAgICAgYWN0aW9uOiAnc3RhcnRpbmcnLAogICAgfQogIH07CgogIGNhbmNlbC5yZW1vdmUoKTsKCiAgLy8gRGlzYWJsZSB0aGUgaW5wdXQgZWxlbWVudCBzaW5jZSBmdXJ0aGVyIHBpY2tzIGFyZSBub3QgYWxsb3dlZC4KICBpbnB1dEVsZW1lbnQuZGlzYWJsZWQgPSB0cnVlOwoKICBpZiAoIWZpbGVzKSB7CiAgICByZXR1cm4gewogICAgICByZXNwb25zZTogewogICAgICAgIGFjdGlvbjogJ2NvbXBsZXRlJywKICAgICAgfQogICAgfTsKICB9CgogIGZvciAoY29uc3QgZmlsZSBvZiBmaWxlcykgewogICAgY29uc3QgbGkgPSBkb2N1bWVudC5jcmVhdGVFbGVtZW50KCdsaScpOwogICAgbGkuYXBwZW5kKHNwYW4oZmlsZS5uYW1lLCB7Zm9udFdlaWdodDogJ2JvbGQnfSkpOwogICAgbGkuYXBwZW5kKHNwYW4oCiAgICAgICAgYCgke2ZpbGUudHlwZSB8fCAnbi9hJ30pIC0gJHtmaWxlLnNpemV9IGJ5dGVzLCBgICsKICAgICAgICBgbGFzdCBtb2RpZmllZDogJHsKICAgICAgICAgICAgZmlsZS5sYXN0TW9kaWZpZWREYXRlID8gZmlsZS5sYXN0TW9kaWZpZWREYXRlLnRvTG9jYWxlRGF0ZVN0cmluZygpIDoKICAgICAgICAgICAgICAgICAgICAgICAgICAgICAgICAgICAgJ24vYSd9IC0gYCkpOwogICAgY29uc3QgcGVyY2VudCA9IHNwYW4oJzAlIGRvbmUnKTsKICAgIGxpLmFwcGVuZENoaWxkKHBlcmNlbnQpOwoKICAgIG91dHB1dEVsZW1lbnQuYXBwZW5kQ2hpbGQobGkpOwoKICAgIGNvbnN0IGZpbGVEYXRhUHJvbWlzZSA9IG5ldyBQcm9taXNlKChyZXNvbHZlKSA9PiB7CiAgICAgIGNvbnN0IHJlYWRlciA9IG5ldyBGaWxlUmVhZGVyKCk7CiAgICAgIHJlYWRlci5vbmxvYWQgPSAoZSkgPT4gewogICAgICAgIHJlc29sdmUoZS50YXJnZXQucmVzdWx0KTsKICAgICAgfTsKICAgICAgcmVhZGVyLnJlYWRBc0FycmF5QnVmZmVyKGZpbGUpOwogICAgfSk7CiAgICAvLyBXYWl0IGZvciB0aGUgZGF0YSB0byBiZSByZWFkeS4KICAgIGxldCBmaWxlRGF0YSA9IHlpZWxkIHsKICAgICAgcHJvbWlzZTogZmlsZURhdGFQcm9taXNlLAogICAgICByZXNwb25zZTogewogICAgICAgIGFjdGlvbjogJ2NvbnRpbnVlJywKICAgICAgfQogICAgfTsKCiAgICAvLyBVc2UgYSBjaHVua2VkIHNlbmRpbmcgdG8gYXZvaWQgbWVzc2FnZSBzaXplIGxpbWl0cy4gU2VlIGIvNjIxMTU2NjAuCiAgICBsZXQgcG9zaXRpb24gPSAwOwogICAgd2hpbGUgKHBvc2l0aW9uIDwgZmlsZURhdGEuYnl0ZUxlbmd0aCkgewogICAgICBjb25zdCBsZW5ndGggPSBNYXRoLm1pbihmaWxlRGF0YS5ieXRlTGVuZ3RoIC0gcG9zaXRpb24sIE1BWF9QQVlMT0FEX1NJWkUpOwogICAgICBjb25zdCBjaHVuayA9IG5ldyBVaW50OEFycmF5KGZpbGVEYXRhLCBwb3NpdGlvbiwgbGVuZ3RoKTsKICAgICAgcG9zaXRpb24gKz0gbGVuZ3RoOwoKICAgICAgY29uc3QgYmFzZTY0ID0gYnRvYShTdHJpbmcuZnJvbUNoYXJDb2RlLmFwcGx5KG51bGwsIGNodW5rKSk7CiAgICAgIHlpZWxkIHsKICAgICAgICByZXNwb25zZTogewogICAgICAgICAgYWN0aW9uOiAnYXBwZW5kJywKICAgICAgICAgIGZpbGU6IGZpbGUubmFtZSwKICAgICAgICAgIGRhdGE6IGJhc2U2NCwKICAgICAgICB9LAogICAgICB9OwogICAgICBwZXJjZW50LnRleHRDb250ZW50ID0KICAgICAgICAgIGAke01hdGgucm91bmQoKHBvc2l0aW9uIC8gZmlsZURhdGEuYnl0ZUxlbmd0aCkgKiAxMDApfSUgZG9uZWA7CiAgICB9CiAgfQoKICAvLyBBbGwgZG9uZS4KICB5aWVsZCB7CiAgICByZXNwb25zZTogewogICAgICBhY3Rpb246ICdjb21wbGV0ZScsCiAgICB9CiAgfTsKfQoKc2NvcGUuZ29vZ2xlID0gc2NvcGUuZ29vZ2xlIHx8IHt9OwpzY29wZS5nb29nbGUuY29sYWIgPSBzY29wZS5nb29nbGUuY29sYWIgfHwge307CnNjb3BlLmdvb2dsZS5jb2xhYi5fZmlsZXMgPSB7CiAgX3VwbG9hZEZpbGVzLAogIF91cGxvYWRGaWxlc0NvbnRpbnVlLAp9Owp9KShzZWxmKTsK",
              "ok": true,
              "headers": [
                [
                  "content-type",
                  "application/javascript"
                ]
              ],
              "status": 200,
              "status_text": ""
            }
          },
          "base_uri": "https://localhost:8080/",
          "height": 88
        },
        "outputId": "f4087206-1801-4d71-f4c1-d30d366d2e7b"
      },
      "source": [
        "! pip install -q kaggle\n",
        "files.upload()"
      ],
      "execution_count": null,
      "outputs": [
        {
          "output_type": "display_data",
          "data": {
            "text/html": [
              "\n",
              "     <input type=\"file\" id=\"files-317ebac7-c02a-4257-bd63-1aa2994700e8\" name=\"files[]\" multiple disabled\n",
              "        style=\"border:none\" />\n",
              "     <output id=\"result-317ebac7-c02a-4257-bd63-1aa2994700e8\">\n",
              "      Upload widget is only available when the cell has been executed in the\n",
              "      current browser session. Please rerun this cell to enable.\n",
              "      </output>\n",
              "      <script src=\"/nbextensions/google.colab/files.js\"></script> "
            ],
            "text/plain": [
              "<IPython.core.display.HTML object>"
            ]
          },
          "metadata": {
            "tags": []
          }
        },
        {
          "output_type": "stream",
          "text": [
            "Saving kaggle.json to kaggle.json\n"
          ],
          "name": "stdout"
        },
        {
          "output_type": "execute_result",
          "data": {
            "text/plain": [
              "{'kaggle.json': b'{\"username\":\"eeusmanqadeer\",\"key\":\"d151dae55c4b854a9b91279b75d8ae02\"}'}"
            ]
          },
          "metadata": {
            "tags": []
          },
          "execution_count": 2
        }
      ]
    },
    {
      "cell_type": "code",
      "metadata": {
        "id": "kQ6MFB3GlWHH",
        "colab_type": "code",
        "colab": {
          "base_uri": "https://localhost:8080/",
          "height": 33
        },
        "outputId": "b044bd99-4497-4cc2-b7ee-341283820956"
      },
      "source": [
        "! mkdir ~/.kaggle\n",
        "! cp kaggle.json ~/.kaggle/\n",
        "! chmod 600 ~/.kaggle/kaggle.json"
      ],
      "execution_count": null,
      "outputs": [
        {
          "output_type": "stream",
          "text": [
            "mkdir: cannot create directory ‘/root/.kaggle’: File exists\n"
          ],
          "name": "stdout"
        }
      ]
    },
    {
      "cell_type": "code",
      "metadata": {
        "id": "F5Fyih6ClqBn",
        "colab_type": "code",
        "colab": {
          "base_uri": "https://localhost:8080/",
          "height": 67
        },
        "outputId": "0f8b512f-6236-48fc-a960-af781cd2f2e2"
      },
      "source": [
        "! kaggle datasets download -d datamunge/sign-language-mnist"
      ],
      "execution_count": null,
      "outputs": [
        {
          "output_type": "stream",
          "text": [
            "Downloading sign-language-mnist.zip to /content\n",
            " 91% 57.0M/62.6M [00:01<00:00, 42.5MB/s]\n",
            "100% 62.6M/62.6M [00:01<00:00, 46.3MB/s]\n"
          ],
          "name": "stdout"
        }
      ]
    },
    {
      "cell_type": "code",
      "metadata": {
        "id": "YpPlQ1cElxzg",
        "colab_type": "code",
        "colab": {}
      },
      "source": [
        "!unzip -q sign-language-mnist.zip"
      ],
      "execution_count": null,
      "outputs": []
    },
    {
      "cell_type": "code",
      "metadata": {
        "colab_type": "code",
        "id": "4kxw-_rmcnVu",
        "colab": {
          "base_uri": "https://localhost:8080/",
          "height": 84
        },
        "outputId": "f2cb778d-6de6-4ea5-fe27-06ce997453e8"
      },
      "source": [
        "\n",
        "def get_data(filename):\n",
        "  # You will need to write code that will read the file passed\n",
        "  # into this function. The first line contains the column headers\n",
        "  # so you should ignore it\n",
        "  # Each successive line contians 785 comma separated values between 0 and 255\n",
        "  # The first value is the label\n",
        "  # The rest are the pixel values for that picture\n",
        "  # The function will return 2 np.array types. One with all the labels\n",
        "  # One with all the images\n",
        "  #\n",
        "  # Tips: \n",
        "  # If you read a full line (as 'row') then row[0] has the label\n",
        "  # and row[1:785] has the 784 pixel values\n",
        "  # Take a look at np.array_split to turn the 784 pixels into 28x28\n",
        "  # You are reading in strings, but need the values to be floats\n",
        "  # Check out np.array().astype for a conversion\n",
        "    with open(filename) as training_file:\n",
        "        reader = csv.reader(training_file, delimiter=',')\n",
        "        images = []\n",
        "        labels = []\n",
        "        next(reader, None)\n",
        "        \n",
        "        for row in reader:\n",
        "            label = row[0]\n",
        "            img = row[1:785]\n",
        "            img = np.array(img).reshape((28, 28))\n",
        "            \n",
        "            labels.append(label)\n",
        "            images.append(img)\n",
        "            \n",
        "            \n",
        "        images = np.array(images).astype(float)\n",
        "        labels = np.array(labels).astype(float)\n",
        "\n",
        "    return images, labels\n",
        "\n",
        "training_images, training_labels = get_data('sign_mnist_train.csv')\n",
        "testing_images, testing_labels = get_data('sign_mnist_test.csv')\n",
        "\n",
        "# Keep these\n",
        "print(training_images.shape)\n",
        "print(training_labels.shape)\n",
        "print(testing_images.shape)\n",
        "print(testing_labels.shape)"
      ],
      "execution_count": null,
      "outputs": [
        {
          "output_type": "stream",
          "text": [
            "(27455, 28, 28)\n",
            "(27455,)\n",
            "(7172, 28, 28)\n",
            "(7172,)\n"
          ],
          "name": "stdout"
        }
      ]
    },
    {
      "cell_type": "code",
      "metadata": {
        "colab_type": "code",
        "id": "awoqRpyZdQkD",
        "colab": {}
      },
      "source": [
        "# In this section you will have to add another dimension to the data\n",
        "# So, for example, if your array is (10000, 28, 28) make it (10000, 28, 28, 1)\n",
        "\n",
        "training_images = np.expand_dims(training_images, axis = 3)\n",
        "testing_images = np.expand_dims(testing_images, axis = 3)\n",
        "\n",
        "# Create an ImageDataGenerator and do Image Augmentation\n",
        "train_datagen = ImageDataGenerator(\n",
        "    rescale=1./255,\n",
        "    rotation_range=45,\n",
        "    width_shift_range=0.2,\n",
        "    height_shift_range=0.2,\n",
        "    shear_range=0.2,\n",
        "    zoom_range=0.2,\n",
        "    horizontal_flip=True\n",
        "    )\n",
        "\n",
        "# If rescaling on training set then during evaluation rescale by the same factor\n",
        "validation_datagen = ImageDataGenerator(rescale=1./255)\n",
        "\n",
        "train_generator = train_datagen.flow(training_images, training_labels, batch_size = 128)\n",
        "validation_generator = validation_datagen.flow(testing_images, testing_labels, batch_size = 128)\n",
        "\n",
        "# Keep These\n",
        "print(training_images.shape)\n",
        "print(testing_images.shape)\n",
        "\n",
        "testing_images = testing_images/255\n",
        "training_images = training_images/255"
      ],
      "execution_count": null,
      "outputs": []
    },
    {
      "cell_type": "code",
      "metadata": {
        "colab_type": "code",
        "id": "Rmb7S32cgRqS",
        "colab": {
          "base_uri": "https://localhost:8080/",
          "height": 628
        },
        "outputId": "96990be3-a582-40a6-b98a-46a9ff8e52ed"
      },
      "source": [
        "\n",
        "# model from kaggle\n",
        "model = tf.keras.models.Sequential([\n",
        "    tf.keras.layers.Conv2D(filters = 75, kernel_size = (3, 3), activation = 'relu', padding = 'same', input_shape = (28, 28, 1)),\n",
        "    tf.keras.layers.BatchNormalization(),\n",
        "    tf.keras.layers.MaxPooling2D(pool_size = (2, 2), padding = 'same'),\n",
        "\n",
        "    tf.keras.layers.Conv2D(filters = 50, kernel_size = (3, 3), activation = 'relu', padding = 'same'),\n",
        "    tf.keras.layers.Dropout(0.2),\n",
        "    tf.keras.layers.BatchNormalization(),\n",
        "    tf.keras.layers.MaxPool2D((2,2) , strides = 2 , padding = 'same'),\n",
        "\n",
        "    tf.keras.layers.Conv2D(25 , (3,3) , strides = 1 , padding = 'same' , activation = 'relu'),\n",
        "    tf.keras.layers.BatchNormalization(),\n",
        "    tf.keras.layers.MaxPool2D((2,2) , strides = 2 , padding = 'same'),\n",
        "\n",
        "    tf.keras.layers.Flatten(),\n",
        "    tf.keras.layers.Dense(units = 512 , activation = 'relu'),\n",
        "    tf.keras.layers.Dropout(0.3),\n",
        "    tf.keras.layers.Dense(units = 25 , activation = 'softmax')\n",
        "])\n",
        "\n",
        "model.summary()\n",
        "# Compile Model. \n",
        "model.compile(optimizer = 'adam',\n",
        "              loss = 'sparse_categorical_crossentropy',\n",
        "              metrics = ['accuracy'])\n",
        "\n",
        "\n",
        "# Train the Model\n"
      ],
      "execution_count": null,
      "outputs": [
        {
          "output_type": "stream",
          "text": [
            "Model: \"sequential_11\"\n",
            "_________________________________________________________________\n",
            "Layer (type)                 Output Shape              Param #   \n",
            "=================================================================\n",
            "conv2d_32 (Conv2D)           (None, 28, 28, 75)        750       \n",
            "_________________________________________________________________\n",
            "batch_normalization_30 (Batc (None, 28, 28, 75)        300       \n",
            "_________________________________________________________________\n",
            "max_pooling2d_32 (MaxPooling (None, 14, 14, 75)        0         \n",
            "_________________________________________________________________\n",
            "conv2d_33 (Conv2D)           (None, 14, 14, 50)        33800     \n",
            "_________________________________________________________________\n",
            "dropout_20 (Dropout)         (None, 14, 14, 50)        0         \n",
            "_________________________________________________________________\n",
            "batch_normalization_31 (Batc (None, 14, 14, 50)        200       \n",
            "_________________________________________________________________\n",
            "max_pooling2d_33 (MaxPooling (None, 7, 7, 50)          0         \n",
            "_________________________________________________________________\n",
            "conv2d_34 (Conv2D)           (None, 7, 7, 25)          11275     \n",
            "_________________________________________________________________\n",
            "batch_normalization_32 (Batc (None, 7, 7, 25)          100       \n",
            "_________________________________________________________________\n",
            "max_pooling2d_34 (MaxPooling (None, 4, 4, 25)          0         \n",
            "_________________________________________________________________\n",
            "flatten_11 (Flatten)         (None, 400)               0         \n",
            "_________________________________________________________________\n",
            "dense_22 (Dense)             (None, 512)               205312    \n",
            "_________________________________________________________________\n",
            "dropout_21 (Dropout)         (None, 512)               0         \n",
            "_________________________________________________________________\n",
            "dense_23 (Dense)             (None, 25)                12825     \n",
            "=================================================================\n",
            "Total params: 264,562\n",
            "Trainable params: 264,262\n",
            "Non-trainable params: 300\n",
            "_________________________________________________________________\n"
          ],
          "name": "stdout"
        }
      ]
    },
    {
      "cell_type": "code",
      "metadata": {
        "id": "_K4BppLsZmVt",
        "colab_type": "code",
        "colab": {
          "base_uri": "https://localhost:8080/",
          "height": 1000
        },
        "outputId": "5991652a-74c6-4e53-9528-3c644455c508"
      },
      "source": [
        "history = model.fit_generator(generator = train_generator, \n",
        "                              epochs = 50,\n",
        "                              validation_data = validation_generator,\n",
        "                              verbose = 1)\n"
      ],
      "execution_count": null,
      "outputs": [
        {
          "output_type": "stream",
          "text": [
            "Epoch 1/50\n",
            "215/215 [==============================] - 8s 36ms/step - loss: 0.3758 - accuracy: 0.8686 - val_loss: 0.4633 - val_accuracy: 0.8445\n",
            "Epoch 2/50\n",
            "215/215 [==============================] - 8s 36ms/step - loss: 0.3460 - accuracy: 0.8828 - val_loss: 0.2229 - val_accuracy: 0.9204\n",
            "Epoch 3/50\n",
            "215/215 [==============================] - 8s 35ms/step - loss: 0.3260 - accuracy: 0.8902 - val_loss: 0.3561 - val_accuracy: 0.8535\n",
            "Epoch 4/50\n",
            "215/215 [==============================] - 8s 36ms/step - loss: 0.3062 - accuracy: 0.8970 - val_loss: 0.2892 - val_accuracy: 0.8991\n",
            "Epoch 5/50\n",
            "215/215 [==============================] - 8s 36ms/step - loss: 0.3018 - accuracy: 0.8967 - val_loss: 0.8202 - val_accuracy: 0.7471\n",
            "Epoch 6/50\n",
            "215/215 [==============================] - 8s 36ms/step - loss: 0.2786 - accuracy: 0.9037 - val_loss: 0.9959 - val_accuracy: 0.7082\n",
            "Epoch 7/50\n",
            "215/215 [==============================] - 8s 37ms/step - loss: 0.2767 - accuracy: 0.9064 - val_loss: 0.1696 - val_accuracy: 0.9472\n",
            "Epoch 8/50\n",
            "215/215 [==============================] - 8s 36ms/step - loss: 0.2616 - accuracy: 0.9104 - val_loss: 0.3974 - val_accuracy: 0.8709\n",
            "Epoch 9/50\n",
            "215/215 [==============================] - 8s 36ms/step - loss: 0.2520 - accuracy: 0.9121 - val_loss: 0.1746 - val_accuracy: 0.9335\n",
            "Epoch 10/50\n",
            "215/215 [==============================] - 8s 36ms/step - loss: 0.2464 - accuracy: 0.9156 - val_loss: 0.0871 - val_accuracy: 0.9706\n",
            "Epoch 11/50\n",
            "215/215 [==============================] - 8s 36ms/step - loss: 0.2328 - accuracy: 0.9226 - val_loss: 0.2276 - val_accuracy: 0.9279\n",
            "Epoch 12/50\n",
            "215/215 [==============================] - 8s 36ms/step - loss: 0.2285 - accuracy: 0.9221 - val_loss: 0.5187 - val_accuracy: 0.8441\n",
            "Epoch 13/50\n",
            "215/215 [==============================] - 8s 36ms/step - loss: 0.2270 - accuracy: 0.9231 - val_loss: 0.1046 - val_accuracy: 0.9636\n",
            "Epoch 14/50\n",
            "215/215 [==============================] - 8s 36ms/step - loss: 0.2270 - accuracy: 0.9216 - val_loss: 0.1554 - val_accuracy: 0.9516\n",
            "Epoch 15/50\n",
            "215/215 [==============================] - 8s 37ms/step - loss: 0.2057 - accuracy: 0.9300 - val_loss: 0.3418 - val_accuracy: 0.8943\n",
            "Epoch 16/50\n",
            "215/215 [==============================] - 8s 37ms/step - loss: 0.2059 - accuracy: 0.9317 - val_loss: 0.1979 - val_accuracy: 0.9308\n",
            "Epoch 17/50\n",
            "215/215 [==============================] - 8s 37ms/step - loss: 0.1988 - accuracy: 0.9321 - val_loss: 0.1158 - val_accuracy: 0.9632\n",
            "Epoch 18/50\n",
            "215/215 [==============================] - 8s 36ms/step - loss: 0.2021 - accuracy: 0.9317 - val_loss: 0.3167 - val_accuracy: 0.9063\n",
            "Epoch 19/50\n",
            "215/215 [==============================] - 8s 36ms/step - loss: 0.1889 - accuracy: 0.9359 - val_loss: 0.4193 - val_accuracy: 0.8654\n",
            "Epoch 20/50\n",
            "215/215 [==============================] - 8s 36ms/step - loss: 0.1905 - accuracy: 0.9357 - val_loss: 0.1017 - val_accuracy: 0.9639\n",
            "Epoch 21/50\n",
            "215/215 [==============================] - 8s 36ms/step - loss: 0.1840 - accuracy: 0.9368 - val_loss: 0.6948 - val_accuracy: 0.8115\n",
            "Epoch 22/50\n",
            "215/215 [==============================] - 8s 36ms/step - loss: 0.1895 - accuracy: 0.9359 - val_loss: 0.1472 - val_accuracy: 0.9423\n",
            "Epoch 23/50\n",
            "215/215 [==============================] - 8s 35ms/step - loss: 0.1704 - accuracy: 0.9416 - val_loss: 0.0636 - val_accuracy: 0.9771\n",
            "Epoch 24/50\n",
            "215/215 [==============================] - 8s 35ms/step - loss: 0.1773 - accuracy: 0.9376 - val_loss: 0.4999 - val_accuracy: 0.8427\n",
            "Epoch 25/50\n",
            "215/215 [==============================] - 8s 35ms/step - loss: 0.1685 - accuracy: 0.9421 - val_loss: 0.0973 - val_accuracy: 0.9675\n",
            "Epoch 26/50\n",
            "215/215 [==============================] - 8s 36ms/step - loss: 0.1691 - accuracy: 0.9430 - val_loss: 0.1431 - val_accuracy: 0.9513\n",
            "Epoch 27/50\n",
            "215/215 [==============================] - 8s 36ms/step - loss: 0.1700 - accuracy: 0.9438 - val_loss: 0.0998 - val_accuracy: 0.9679\n",
            "Epoch 28/50\n",
            "215/215 [==============================] - 8s 36ms/step - loss: 0.1636 - accuracy: 0.9443 - val_loss: 4.8267 - val_accuracy: 0.4387\n",
            "Epoch 29/50\n",
            "215/215 [==============================] - 8s 39ms/step - loss: 0.1608 - accuracy: 0.9465 - val_loss: 0.1022 - val_accuracy: 0.9646\n",
            "Epoch 30/50\n",
            "215/215 [==============================] - 8s 36ms/step - loss: 0.1639 - accuracy: 0.9447 - val_loss: 0.0846 - val_accuracy: 0.9667\n",
            "Epoch 31/50\n",
            "215/215 [==============================] - 8s 36ms/step - loss: 0.1610 - accuracy: 0.9448 - val_loss: 0.1144 - val_accuracy: 0.9699\n",
            "Epoch 32/50\n",
            "215/215 [==============================] - 8s 37ms/step - loss: 0.1612 - accuracy: 0.9443 - val_loss: 0.1571 - val_accuracy: 0.9568\n",
            "Epoch 33/50\n",
            "215/215 [==============================] - 8s 36ms/step - loss: 0.1590 - accuracy: 0.9462 - val_loss: 0.1035 - val_accuracy: 0.9658\n",
            "Epoch 34/50\n",
            "215/215 [==============================] - 8s 37ms/step - loss: 0.1495 - accuracy: 0.9512 - val_loss: 0.2189 - val_accuracy: 0.9343\n",
            "Epoch 35/50\n",
            "215/215 [==============================] - 8s 36ms/step - loss: 0.1418 - accuracy: 0.9528 - val_loss: 0.0360 - val_accuracy: 0.9868\n",
            "Epoch 36/50\n",
            "215/215 [==============================] - 8s 36ms/step - loss: 0.1430 - accuracy: 0.9506 - val_loss: 0.2675 - val_accuracy: 0.9205\n",
            "Epoch 37/50\n",
            "215/215 [==============================] - 8s 37ms/step - loss: 0.1346 - accuracy: 0.9549 - val_loss: 0.1576 - val_accuracy: 0.9552\n",
            "Epoch 38/50\n",
            "215/215 [==============================] - 8s 37ms/step - loss: 0.1554 - accuracy: 0.9468 - val_loss: 0.0909 - val_accuracy: 0.9730\n",
            "Epoch 39/50\n",
            "215/215 [==============================] - 8s 37ms/step - loss: 0.1426 - accuracy: 0.9521 - val_loss: 0.1080 - val_accuracy: 0.9656\n",
            "Epoch 40/50\n",
            "215/215 [==============================] - 8s 37ms/step - loss: 0.1410 - accuracy: 0.9531 - val_loss: 0.0493 - val_accuracy: 0.9805\n",
            "Epoch 41/50\n",
            "215/215 [==============================] - 8s 37ms/step - loss: 0.1370 - accuracy: 0.9539 - val_loss: 0.2894 - val_accuracy: 0.9048\n",
            "Epoch 42/50\n",
            "215/215 [==============================] - 8s 36ms/step - loss: 0.1386 - accuracy: 0.9541 - val_loss: 0.0986 - val_accuracy: 0.9686\n",
            "Epoch 43/50\n",
            "215/215 [==============================] - 8s 36ms/step - loss: 0.1375 - accuracy: 0.9540 - val_loss: 0.4562 - val_accuracy: 0.8663\n",
            "Epoch 44/50\n",
            "215/215 [==============================] - 8s 36ms/step - loss: 0.1343 - accuracy: 0.9553 - val_loss: 0.1243 - val_accuracy: 0.9619\n",
            "Epoch 45/50\n",
            "215/215 [==============================] - 8s 36ms/step - loss: 0.1272 - accuracy: 0.9590 - val_loss: 0.1343 - val_accuracy: 0.9575\n",
            "Epoch 46/50\n",
            "215/215 [==============================] - 8s 36ms/step - loss: 0.1363 - accuracy: 0.9549 - val_loss: 0.0779 - val_accuracy: 0.9760\n",
            "Epoch 47/50\n",
            "215/215 [==============================] - 8s 37ms/step - loss: 0.1311 - accuracy: 0.9557 - val_loss: 0.0433 - val_accuracy: 0.9851\n",
            "Epoch 48/50\n",
            "215/215 [==============================] - 8s 37ms/step - loss: 0.1253 - accuracy: 0.9577 - val_loss: 0.2099 - val_accuracy: 0.9392\n",
            "Epoch 49/50\n",
            "215/215 [==============================] - 8s 36ms/step - loss: 0.1286 - accuracy: 0.9587 - val_loss: 0.4512 - val_accuracy: 0.8786\n",
            "Epoch 50/50\n",
            "215/215 [==============================] - 8s 37ms/step - loss: 0.1319 - accuracy: 0.9568 - val_loss: 0.0470 - val_accuracy: 0.9858\n"
          ],
          "name": "stdout"
        }
      ]
    },
    {
      "cell_type": "code",
      "metadata": {
        "id": "AjhIEwhNh1ZL",
        "colab_type": "code",
        "colab": {
          "base_uri": "https://localhost:8080/",
          "height": 50
        },
        "outputId": "7c979a40-9b1a-443c-95d1-03845a978c13"
      },
      "source": [
        "model.evaluate(testing_images, testing_labels)"
      ],
      "execution_count": null,
      "outputs": [
        {
          "output_type": "stream",
          "text": [
            "225/225 [==============================] - 1s 3ms/step - loss: 0.0470 - accuracy: 0.9858\n"
          ],
          "name": "stdout"
        },
        {
          "output_type": "execute_result",
          "data": {
            "text/plain": [
              "[0.046965353190898895, 0.9857780337333679]"
            ]
          },
          "metadata": {
            "tags": []
          },
          "execution_count": 107
        }
      ]
    },
    {
      "cell_type": "code",
      "metadata": {
        "colab_type": "code",
        "id": "_Q3Zpr46dsij",
        "colab": {
          "base_uri": "https://localhost:8080/",
          "height": 544
        },
        "outputId": "4019ff1c-fa40-4fa6-ccf7-909c3a8d57cb"
      },
      "source": [
        "# Plot the chart for accuracy and loss on both training and validation\n",
        "\n",
        "import matplotlib.pyplot as plt\n",
        "acc = history.history['accuracy']\n",
        "val_acc = history.history['val_accuracy']\n",
        "loss = history.history['loss']\n",
        "val_loss = history.history['val_loss']\n",
        "\n",
        "epochs = range(len(acc))\n",
        "\n",
        "plt.plot(epochs, acc, 'r', label='Training accuracy')\n",
        "plt.plot(epochs, val_acc, 'b', label='Validation accuracy')\n",
        "plt.title('Training and validation accuracy')\n",
        "plt.legend()\n",
        "plt.figure()\n",
        "\n",
        "plt.plot(epochs, loss, 'r', label='Training Loss')\n",
        "plt.plot(epochs, val_loss, 'b', label='Validation Loss')\n",
        "plt.title('Training and validation loss')\n",
        "plt.legend()\n",
        "\n",
        "plt.show()"
      ],
      "execution_count": null,
      "outputs": [
        {
          "output_type": "display_data",
          "data": {
            "image/png": "[encoded data removed]",
            "text/plain": [
              "<Figure size 432x288 with 1 Axes>"
            ]
          },
          "metadata": {
            "tags": [],
            "needs_background": "light"
          }
        },
        {
          "output_type": "display_data",
          "data": {
            "image/png": "[encoded data removed]",
            "text/plain": [
              "<Figure size 432x288 with 1 Axes>"
            ]
          },
          "metadata": {
            "tags": [],
            "needs_background": "light"
          }
        }
      ]
    },
    {
      "cell_type": "code",
      "metadata": {
        "id": "WZpLGm0NdoZ3",
        "colab_type": "code",
        "colab": {}
      },
      "source": [
        "def predict_image(image, label):\n",
        "  print('predicted',np.argmax(model.predict(image.reshape(1,28,28,1))))\n",
        "  print('original',label)\n",
        "\n",
        "  plt.imshow(image.reshape(28,28), cmap = 'gray')\n",
        "  "
      ],
      "execution_count": null,
      "outputs": []
    },
    {
      "cell_type": "code",
      "metadata": {
        "id": "r-O9qt0ddt9v",
        "colab_type": "code",
        "colab": {
          "base_uri": "https://localhost:8080/",
          "height": 298
        },
        "outputId": "06a0daf1-1d0c-4299-eccb-149ebaa92cbe"
      },
      "source": [
        "predict_image(training_images[10], training_labels[10])"
      ],
      "execution_count": null,
      "outputs": [
        {
          "output_type": "stream",
          "text": [
            "predicted 18\n",
            "original 18.0\n"
          ],
          "name": "stdout"
        },
        {
          "output_type": "display_data",
          "data": {
            "image/png": "[encoded data removed]",
            "text/plain": [
              "<Figure size 432x288 with 1 Axes>"
            ]
          },
          "metadata": {
            "tags": [],
            "needs_background": "light"
          }
        }
      ]
    },
    {
      "cell_type": "code",
      "metadata": {
        "id": "IhDFG9tLhO_2",
        "colab_type": "code",
        "colab": {
          "base_uri": "https://localhost:8080/",
          "height": 298
        },
        "outputId": "d3be8fc3-5561-4aa8-c319-f95168117442"
      },
      "source": [
        "predict_image(testing_images[0], testing_labels[0])"
      ],
      "execution_count": null,
      "outputs": [
        {
          "output_type": "stream",
          "text": [
            "predicted 6\n",
            "original 6.0\n"
          ],
          "name": "stdout"
        },
        {
          "output_type": "display_data",
          "data": {
            "image/png": "[encoded data removed]",
            "text/plain": [
              "<Figure size 432x288 with 1 Axes>"
            ]
          },
          "metadata": {
            "tags": [],
            "needs_background": "light"
          }
        }
      ]
    },
    {
      "cell_type": "code",
      "metadata": {
        "id": "bW_0OddtlNzD",
        "colab_type": "code",
        "colab": {}
      },
      "source": [
        ""
      ],
      "execution_count": null,
      "outputs": []
    }
  ]
}