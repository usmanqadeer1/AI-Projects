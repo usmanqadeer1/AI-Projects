{
 "cells": [
  {
   "cell_type": "code",
   "execution_count": 1,
   "id": "ba4244b7-4511-4e66-8212-0893e0f59492",
   "metadata": {},
   "outputs": [
    {
     "name": "stdout",
     "output_type": "stream",
     "text": [
      "WARNING:tensorflow:From C:\\Users\\hp\\anaconda3\\envs\\dl\\Lib\\site-packages\\keras\\src\\losses.py:2976: The name tf.losses.sparse_softmax_cross_entropy is deprecated. Please use tf.compat.v1.losses.sparse_softmax_cross_entropy instead.\n",
      "\n",
      "WARNING:tensorflow:From C:\\Users\\hp\\anaconda3\\envs\\dl\\Lib\\site-packages\\keras\\src\\backend.py:1398: The name tf.executing_eagerly_outside_functions is deprecated. Please use tf.compat.v1.executing_eagerly_outside_functions instead.\n",
      "\n"
     ]
    },
    {
     "name": "stderr",
     "output_type": "stream",
     "text": [
      "[nltk_data] Downloading package stopwords to\n",
      "[nltk_data]     C:\\Users\\hp\\AppData\\Roaming\\nltk_data...\n",
      "[nltk_data]   Package stopwords is already up-to-date!\n",
      "[nltk_data] Downloading package punkt to\n",
      "[nltk_data]     C:\\Users\\hp\\AppData\\Roaming\\nltk_data...\n",
      "[nltk_data]   Package punkt is already up-to-date!\n"
     ]
    }
   ],
   "source": [
    "import streamlit as st\n",
    "import re\n",
    "import numpy as np\n",
    "import tensorflow as tf\n",
    "from tensorflow.keras.preprocessing.text import Tokenizer\n",
    "\n",
    "import nltk\n",
    "from nltk.corpus import stopwords\n",
    "from nltk.tokenize import word_tokenize\n",
    "import joblib  # For loading tokenizer\n",
    "from tensorflow.keras.preprocessing.sequence import pad_sequences\n",
    "from PIL import Image\n",
    "\n",
    "\n",
    "# Load the saved tokenizer\n",
    "tokenizer = joblib.load('tokenizer1.joblib')  # Replace with your tokenizer file path\n",
    "# tokenizer = Tokenizer(num_words=20000) \n",
    "\n",
    "# Load the saved model\n",
    "model = tf.keras.models.load_model('sentiment_model1.h5')  # Replace with your model file path\n",
    "\n",
    "# Ensure NLTK stopwords are downloaded\n",
    "nltk.download('stopwords')\n",
    "nltk.download('punkt')\n",
    "max_sequence_length = 100\n",
    "\n"
   ]
  },
  {
   "cell_type": "code",
   "execution_count": 4,
   "id": "cf207dde-3c64-42ba-bb8d-b77b1fba01f0",
   "metadata": {},
   "outputs": [
    {
     "name": "stdout",
     "output_type": "stream",
     "text": [
      "[[    0     0     0     0     0     0     0     0     0     0     0     0\n",
      "      0     0     0     0     0     0     0     0     0     0     0     0\n",
      "      0     0     0     0     0     0     0     0     0     0     0     0\n",
      "      0     0     0     0     0     0     0     0     0     0     0     0\n",
      "      0     0     0     0     0     0     0     0     0     0     0     0\n",
      "      0     0     0     0     0     0     0     0     0     0     0     0\n",
      "      0     0     0  1886   443    89     6   614    29    35  1008     8\n",
      "    582    72  1317 12696   575   168   146   771   338  1209     2    42\n",
      "    229  6058   849   386]]\n",
      "1/1 [==============================] - 0s 46ms/step\n",
      "[[0.19845793 0.24855013 0.30066815 0.2523238 ]]\n",
      "Neutral\n"
     ]
    }
   ],
   "source": [
    "# Function to preprocess the text data\n",
    "def preprocess_text(text):\n",
    "    text = re.sub(r'http\\S+', '', text)  # Remove URLs\n",
    "    text = re.sub(r'@\\S+', '', text)     # Remove mentions\n",
    "    text = re.sub(r'#\\S+', '', text)     # Remove hashtags\n",
    "    text = re.sub(r'[^a-zA-Z0-9\\s]', '', text)  # Remove special characters and punctuation\n",
    "    text = text.lower()                  # Convert to lowercase\n",
    "    stop_words = set(stopwords.words('english'))\n",
    "    words = text.split()\n",
    "    text = ' '.join([word for word in words if word not in stop_words])  # Remove stop words\n",
    "    return text\n",
    "\n",
    "\n",
    "def predict_sentiment(text):\n",
    "    cleaned_text = preprocess_text(text)\n",
    "    sequence = tokenizer.texts_to_sequences([cleaned_text])\n",
    "    padded_sequence = pad_sequences(sequence, maxlen=max_sequence_length, padding='post')  # Ensure max_sequence_length matches your model\n",
    "    prediction = model.predict(padded_sequence)\n",
    "    \n",
    "    return prediction\n",
    "\n",
    "\n",
    "# Main function to run the app\n",
    "def main():\n",
    "    # Page title and icon\n",
    "    tweet = \"Completed #Fustercluck this weekend, rounding off year one of #Borderlands3. I decided to go back in response and play the original Borderlands again as I had the 4K GOTY version on my PC already. The shooting feels awful. I'm going to try some suggested ini changes tomorrow.\"\n",
    "    prediction = predict_sentiment(tweet)\n",
    "    print(prediction)\n",
    "    output = [\"Irrelevant\", \"Negative\", \"Neutral\",\"Positive\"][prediction.argmax()]\n",
    "\n",
    "    print(output)\n",
    "    \n",
    "# Run the main function\n",
    "if __name__ == '__main__':\n",
    "    main()\n"
   ]
  },
  {
   "cell_type": "code",
   "execution_count": 11,
   "id": "94f275b2-7d1d-4d74-9610-dcf36613bb0b",
   "metadata": {},
   "outputs": [
    {
     "name": "stdout",
     "output_type": "stream",
     "text": [
      "Model: \"sequential_7\"\n",
      "_________________________________________________________________\n",
      " Layer (type)                Output Shape              Param #   \n",
      "=================================================================\n",
      " embedding (Embedding)       (None, 100, 100)          2000000   \n",
      "                                                                 \n",
      " spatial_dropout1d (Spatial  (None, 100, 100)          0         \n",
      " Dropout1D)                                                      \n",
      "                                                                 \n",
      " bidirectional (Bidirection  (None, 200)               160800    \n",
      " al)                                                             \n",
      "                                                                 \n",
      " dense_14 (Dense)            (None, 4)                 804       \n",
      "                                                                 \n",
      "=================================================================\n",
      "Total params: 2161604 (8.25 MB)\n",
      "Trainable params: 2161604 (8.25 MB)\n",
      "Non-trainable params: 0 (0.00 Byte)\n",
      "_________________________________________________________________\n"
     ]
    }
   ],
   "source": [
    "model.summary()"
   ]
  },
  {
   "cell_type": "code",
   "execution_count": null,
   "id": "85816914-eea9-4d18-968c-d7d23a325444",
   "metadata": {},
   "outputs": [],
   "source": []
  }
 ],
 "metadata": {
  "kernelspec": {
   "display_name": "Python 3 (ipykernel)",
   "language": "python",
   "name": "python3"
  },
  "language_info": {
   "codemirror_mode": {
    "name": "ipython",
    "version": 3
   },
   "file_extension": ".py",
   "mimetype": "text/x-python",
   "name": "python",
   "nbconvert_exporter": "python",
   "pygments_lexer": "ipython3",
   "version": "3.11.4"
  }
 },
 "nbformat": 4,
 "nbformat_minor": 5
}
